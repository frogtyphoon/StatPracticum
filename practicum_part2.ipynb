{
  "cells": [
    {
      "cell_type": "markdown",
      "metadata": {
        "id": "96_iwSs7sBs5"
      },
      "source": [
        "# Вторая часть технологического практикума #\n",
        "### Островский Алексей 316 группа ###"
      ]
    },
    {
      "cell_type": "markdown",
      "metadata": {
        "id": "aoEXO7zJsBs6"
      },
      "source": [
        "### Подготовительные работы ###"
      ]
    },
    {
      "cell_type": "code",
      "execution_count": null,
      "metadata": {
        "id": "QfxHv_T9sBs7"
      },
      "outputs": [],
      "source": [
        "%pip install -r requirements.txt\n",
        "%load_ext rpy2.ipython"
      ]
    },
    {
      "cell_type": "code",
      "execution_count": 321,
      "metadata": {
        "id": "hYj3LGo1sBs8"
      },
      "outputs": [],
      "source": [
        "import numpy as np\n",
        "import pandas as pd\n",
        "import matplotlib.pyplot as plt\n",
        "import seaborn as sns\n",
        "import warnings\n",
        "import scipy.stats as stats\n",
        "import statsmodels.api as stm\n",
        "warnings.filterwarnings('ignore')\n",
        "sns.set(style='darkgrid')\n",
        "np.random.seed(1)"
      ]
    },
    {
      "cell_type": "code",
      "source": [
        "%%R\n",
        "# R\n",
        "# Выключаю вывод предупреждающих сообщений warning\n",
        "oldw <- getOption(\"warn\")\n",
        "options(warn = -1)\n",
        "\n",
        "install.packages(\"dplyr\")\n",
        "install.packages(\"Hmisc\")\n",
        "install.packages(\"ggplot2\")\n",
        "install.packages(\"highcharter\")\n",
        "install.packages(\"Leaflet\")\n",
        "install.packages(\"RColorBrewer\")\n",
        "install.packages(\"Plotly\")\n",
        "install.packages(\"sunburstR\")\n",
        "install.packages(\"RGL\")\n",
        "install.packages(\"dygraphs\")\n",
        "install.packages(\"outliers\")\n",
        "library(outliers)\n",
        "install.packages(\"mice\")\n",
        "library(mice)\n",
        "install.packages(\"corrplot\")\n",
        "library(corrplot)\n",
        "install.packages('car')\n",
        "library(car)\n",
        "install.packages(\"ISwR\")\n",
        "library(ISwR)\n",
        "\n",
        "packages <- c('ggplot2', 'dplyr', 'tidyr', 'tibble')\n",
        "library(tidyr)\n",
        "library(tibble)\n",
        "\n",
        "install.packages(\"nortest\")\n",
        "library(nortest)\n",
        "install.packages(\"ggpubr\")\n",
        "set.seed(31600) # устанавливаю значение рандома по умолчанию\n",
        "\n",
        "filter_data = function(data_frame, column, value){\n",
        "  dplyr::filter(data_frame, !!as.symbol(column) == value)\n",
        "}\n",
        ""
      ],
      "metadata": {
        "id": "tCNjpOjiyITT"
      },
      "execution_count": null,
      "outputs": []
    },
    {
      "cell_type": "markdown",
      "metadata": {
        "id": "MvcEg4issBs8"
      },
      "source": [
        "### Продемонстрировать применение для проверки различных гипотез и различных доверительных уровней (0.9, 0.95, 0.99) ###"
      ]
    },
    {
      "cell_type": "markdown",
      "metadata": {
        "id": "J1-5znp7sBs8"
      },
      "source": [
        "##### a) Стьюдента, включая односторонние варианты, когда проверяемая нулевая гипотеза заключается в том, что одно из сравниваемых средних значений больше (или меньше) другого. Реализовать оценку мощности критериев при заданном объеме выборки или определения объема выборки для достижения заданной мощности; #####"
      ]
    },
    {
      "cell_type": "code",
      "execution_count": 323,
      "metadata": {
        "id": "5EmwYcp4sBs8"
      },
      "outputs": [],
      "source": [
        "# first position = mu, second position = sigma\n",
        "norm_0 = np.random.normal(0, 5, size=500)\n",
        "norm_5 = np.random.normal(5, 5, size=500)\n",
        "norm_10 = np.random.normal(10, 5, size=500)"
      ]
    },
    {
      "cell_type": "code",
      "source": [
        "%%R\n",
        "\n",
        "norm_0 <- rnorm(500, mean = 0, sd = 5)\n",
        "norm_5 <- rnorm(500, mean = 5, sd = 5)\n",
        "norm_10 <- rnorm(500, mean = 10, sd = 5)\n"
      ],
      "metadata": {
        "id": "5P4CQXK-xNfw"
      },
      "execution_count": 324,
      "outputs": []
    },
    {
      "cell_type": "markdown",
      "metadata": {
        "id": "71UqZmjzsBs8"
      },
      "source": [
        "Будем смотреть нормальные распределения с одинаковой выборкой и одинаковой дисперсией. Это важно, так как ttest_ind работает при этих условиях, иначе в случае несовпадения дисперсий будет использоваться t-критерий Уэлча - тест, основанный на распределении Стьюдента и предназначенный для проверки статистической гипотезы о равенстве математических ожиданий случайных величин, имеющих необязательно равные известные дисперсии. Является модификацией t-критерия Стьюдента."
      ]
    },
    {
      "cell_type": "code",
      "execution_count": 325,
      "metadata": {
        "colab": {
          "base_uri": "https://localhost:8080/"
        },
        "id": "WhpP0yFmsBs8",
        "outputId": "83f9375c-0f8e-41fc-930c-365f38d251f2"
      },
      "outputs": [
        {
          "output_type": "stream",
          "name": "stdout",
          "text": [
            "False\n",
            "True\n",
            "False\n"
          ]
        }
      ],
      "source": [
        "confidence_level = 0.90\n",
        "print(stats.ttest_ind(norm_5, norm_10, equal_var=True, alternative='two-sided').pvalue > 1 - confidence_level)\n",
        "print(stats.ttest_ind(norm_0, norm_5, equal_var=True, alternative='greater').pvalue > 1 - confidence_level)\n",
        "print(stats.ttest_ind(norm_0, norm_5, equal_var=True, alternative='less').pvalue > 1 - confidence_level)"
      ]
    },
    {
      "cell_type": "code",
      "source": [
        "%%R\n",
        "print(t.test(norm_0, mu = 10, conf.level = 0.9))\n",
        "print(t.test(norm_5, mu = 5, conf.level = 0.9))\n",
        "print(t.test(norm_10, mu = 0, conf.level = 0.9))"
      ],
      "metadata": {
        "colab": {
          "base_uri": "https://localhost:8080/"
        },
        "id": "13i9qDIT0X3B",
        "outputId": "fe3e1714-ecbb-4280-d770-c8275cbc0d69"
      },
      "execution_count": 326,
      "outputs": [
        {
          "output_type": "stream",
          "name": "stdout",
          "text": [
            "\n",
            "\tOne Sample t-test\n",
            "\n",
            "data:  norm_0\n",
            "t = -45.729, df = 499, p-value < 2.2e-16\n",
            "alternative hypothesis: true mean is not equal to 10\n",
            "90 percent confidence interval:\n",
            " -0.4338283  0.2920168\n",
            "sample estimates:\n",
            "  mean of x \n",
            "-0.07090575 \n",
            "\n",
            "\n",
            "\tOne Sample t-test\n",
            "\n",
            "data:  norm_5\n",
            "t = 1.5052, df = 499, p-value = 0.1329\n",
            "alternative hypothesis: true mean is not equal to 5\n",
            "90 percent confidence interval:\n",
            " 4.968678 5.691908\n",
            "sample estimates:\n",
            "mean of x \n",
            " 5.330293 \n",
            "\n",
            "\n",
            "\tOne Sample t-test\n",
            "\n",
            "data:  norm_10\n",
            "t = 44.253, df = 499, p-value < 2.2e-16\n",
            "alternative hypothesis: true mean is not equal to 0\n",
            "90 percent confidence interval:\n",
            "  9.81650 10.57588\n",
            "sample estimates:\n",
            "mean of x \n",
            " 10.19619 \n",
            "\n"
          ]
        }
      ]
    },
    {
      "cell_type": "markdown",
      "metadata": {
        "id": "ppfQyfBwsBs9"
      },
      "source": [
        "Нулевые гипотезы для разного вида алтернатив следующие:\n",
        "* ‘two-sided’: the means of the distributions underlying the samples are unequal.\n",
        "* ‘less’: the mean of the distribution underlying the first sample is less than the mean of the distribution underlying the second sample.\n",
        "* ‘greater’: the mean of the distribution underlying the first sample is greater than the mean of the distribution underlying the second sample.\n",
        "\n",
        "Как видно полученный p-value в каждом из тестов совпадает с проверкой на определенном уровне доверия \\\n",
        "Проверим аналогично оставшиеся 0.95 и 0.99"
      ]
    },
    {
      "cell_type": "code",
      "execution_count": 327,
      "metadata": {
        "colab": {
          "base_uri": "https://localhost:8080/"
        },
        "id": "1PaAyuezsBs9",
        "outputId": "7601ca99-b81b-4400-b969-13fa43dbdc2b"
      },
      "outputs": [
        {
          "output_type": "stream",
          "name": "stdout",
          "text": [
            "False\n",
            "True\n",
            "False\n",
            "----------\n",
            "False\n",
            "True\n",
            "False\n"
          ]
        }
      ],
      "source": [
        "confidence_level = 0.95\n",
        "print(stats.ttest_ind(norm_5, norm_10, equal_var=True, alternative='two-sided').pvalue > 1 - confidence_level)\n",
        "print(stats.ttest_ind(norm_0, norm_5, equal_var=True, alternative='greater').pvalue > 1 - confidence_level)\n",
        "print(stats.ttest_ind(norm_0, norm_5, equal_var=True, alternative='less').pvalue > 1 - confidence_level)\n",
        "print(10*'-')\n",
        "confidence_level = 0.99\n",
        "print(stats.ttest_ind(norm_5, norm_10, equal_var=True, alternative='two-sided').pvalue > 1 - confidence_level)\n",
        "print(stats.ttest_ind(norm_0, norm_5, equal_var=True, alternative='greater').pvalue > 1 - confidence_level)\n",
        "print(stats.ttest_ind(norm_0, norm_5, equal_var=True, alternative='less').pvalue > 1 - confidence_level)"
      ]
    },
    {
      "cell_type": "code",
      "source": [
        "%%R\n",
        "print(t.test(norm_5, norm_10, alternative = 'two.sided', conf.level = 0.95))\n",
        "print(t.test(norm_0, norm_5, alternative = 'greater', conf.level = 0.95))\n",
        "print(t.test(norm_0, norm_5, alternative = 'less', conf.level = 0.95))\n",
        "\n",
        "print(t.test(norm_5, norm_10, alternative = 'two.sided', conf.level = 0.99))\n",
        "print(t.test(norm_0, norm_5, alternative = 'greater',conf.level = 0.99))\n",
        "print(t.test(norm_0, norm_5, alternative = 'less', conf.level = 0.99))"
      ],
      "metadata": {
        "colab": {
          "base_uri": "https://localhost:8080/"
        },
        "id": "2yzR0XBG15vN",
        "outputId": "98df1166-847b-4100-9ca1-d612f1b4568a"
      },
      "execution_count": 328,
      "outputs": [
        {
          "output_type": "stream",
          "name": "stdout",
          "text": [
            "\n",
            "\tWelch Two Sample t-test\n",
            "\n",
            "data:  norm_5 and norm_10\n",
            "t = -15.293, df = 995.64, p-value < 2.2e-16\n",
            "alternative hypothesis: true difference in means is not equal to 0\n",
            "95 percent confidence interval:\n",
            " -5.490278 -4.241511\n",
            "sample estimates:\n",
            "mean of x mean of y \n",
            " 5.330293 10.196188 \n",
            "\n",
            "\n",
            "\tWelch Two Sample t-test\n",
            "\n",
            "data:  norm_0 and norm_5\n",
            "t = -17.373, df = 997.99, p-value = 1\n",
            "alternative hypothesis: true difference in means is greater than 0\n",
            "95 percent confidence interval:\n",
            " -5.913049       Inf\n",
            "sample estimates:\n",
            "  mean of x   mean of y \n",
            "-0.07090575  5.33029302 \n",
            "\n",
            "\n",
            "\tWelch Two Sample t-test\n",
            "\n",
            "data:  norm_0 and norm_5\n",
            "t = -17.373, df = 997.99, p-value < 2.2e-16\n",
            "alternative hypothesis: true difference in means is less than 0\n",
            "95 percent confidence interval:\n",
            "      -Inf -4.889348\n",
            "sample estimates:\n",
            "  mean of x   mean of y \n",
            "-0.07090575  5.33029302 \n",
            "\n",
            "\n",
            "\tWelch Two Sample t-test\n",
            "\n",
            "data:  norm_5 and norm_10\n",
            "t = -15.293, df = 995.64, p-value < 2.2e-16\n",
            "alternative hypothesis: true difference in means is not equal to 0\n",
            "99 percent confidence interval:\n",
            " -5.687050 -4.044739\n",
            "sample estimates:\n",
            "mean of x mean of y \n",
            " 5.330293 10.196188 \n",
            "\n",
            "\n",
            "\tWelch Two Sample t-test\n",
            "\n",
            "data:  norm_0 and norm_5\n",
            "t = -17.373, df = 997.99, p-value = 1\n",
            "alternative hypothesis: true difference in means is greater than 0\n",
            "99 percent confidence interval:\n",
            " -6.12561      Inf\n",
            "sample estimates:\n",
            "  mean of x   mean of y \n",
            "-0.07090575  5.33029302 \n",
            "\n",
            "\n",
            "\tWelch Two Sample t-test\n",
            "\n",
            "data:  norm_0 and norm_5\n",
            "t = -17.373, df = 997.99, p-value < 2.2e-16\n",
            "alternative hypothesis: true difference in means is less than 0\n",
            "99 percent confidence interval:\n",
            "      -Inf -4.676788\n",
            "sample estimates:\n",
            "  mean of x   mean of y \n",
            "-0.07090575  5.33029302 \n",
            "\n"
          ]
        }
      ]
    },
    {
      "cell_type": "markdown",
      "metadata": {
        "id": "f6xuh7QJsBs9"
      },
      "source": [
        "##### b)Уилкоксона-Манна-Уитни (ранговые); #####"
      ]
    },
    {
      "cell_type": "markdown",
      "metadata": {
        "id": "eU7tuZETsBs9"
      },
      "source": [
        "U-критерий Манна-Уитни - это непараметрический тест нулевой гипотезы о том, что распределение, лежащее в основе выборки x, совпадает с распределением, лежащим в основе выборки y. Он часто используется как тест на разницу в местоположении между распределениями."
      ]
    },
    {
      "cell_type": "markdown",
      "metadata": {
        "id": "UPrvmceRsBs9"
      },
      "source": [
        "Возьмем равномерное распределение на разных отрезках, тогда графики их распределений достаточно просто интерпретируемы для анализа \\\n",
        "Нулевые гипотезы для разного вида альтернатив следующие:\n",
        "* ‘two-sided’: the distributions are not equal, i.e. F(u) ≠ G(u) for at least one u.\n",
        "* ‘less’: the distribution underlying x is stochastically less than the distribution underlying y, i.e. F(u) > G(u) for all u.\n",
        "* ‘greater’: the distribution underlying x is stochastically greater than the distribution underlying y, i.e. F(u) < G(u) for all u.\n",
        "Где F(u), G(u) - функции распределения проверяемых функций"
      ]
    },
    {
      "cell_type": "code",
      "execution_count": 329,
      "metadata": {
        "id": "gwBUhc9WsBs9"
      },
      "outputs": [],
      "source": [
        "uniform_1 = np.random.uniform(low=0, high=5, size=500)\n",
        "uniform_2 = np.random.uniform(low=0, high=10, size=500)\n",
        "uniform_3 = np.random.uniform(low=0, high=100, size=500)"
      ]
    },
    {
      "cell_type": "code",
      "source": [
        "%%R\n",
        "uniform_1 <- runif(500, min = 0, max = 5)\n",
        "uniform_2 <- runif(500, min = 0, max = 10)\n",
        "uniform_3 <- runif(500, min = 0, max = 100)"
      ],
      "metadata": {
        "id": "5lS3R_Tf7AMp"
      },
      "execution_count": 330,
      "outputs": []
    },
    {
      "cell_type": "code",
      "execution_count": 331,
      "metadata": {
        "colab": {
          "base_uri": "https://localhost:8080/"
        },
        "id": "tUFJ2JyUsBs9",
        "outputId": "39169c3b-d937-44ac-dfaf-c9e95e6bbaec"
      },
      "outputs": [
        {
          "output_type": "stream",
          "name": "stdout",
          "text": [
            "False\n",
            "True\n",
            "False\n"
          ]
        }
      ],
      "source": [
        "confidence_level = 0.9\n",
        "print(stats.mannwhitneyu(uniform_1, uniform_3, alternative='two-sided').pvalue > 1 - confidence_level)\n",
        "print(stats.mannwhitneyu(uniform_2, uniform_3, alternative='greater').pvalue > 1 - confidence_level)\n",
        "print(stats.mannwhitneyu(uniform_2, uniform_3, alternative='less').pvalue > 1 - confidence_level)"
      ]
    },
    {
      "cell_type": "code",
      "source": [
        "%%R\n",
        "\n",
        "print(wilcox.test(uniform_1, mu = mean(uniform_3), exact = FALSE, conf.level = 0.9))\n",
        "print(wilcox.test(uniform_2, mu = mean(uniform_2), exact = FALSE, conf.level = 0.9))\n",
        "print(wilcox.test(uniform_3, mu = mean(uniform_1), exact = FALSE, conf.level = 0.9))"
      ],
      "metadata": {
        "colab": {
          "base_uri": "https://localhost:8080/"
        },
        "id": "skvx06pr7gsv",
        "outputId": "b7856e4b-56a3-4eb8-b994-743008a87550"
      },
      "execution_count": 332,
      "outputs": [
        {
          "output_type": "stream",
          "name": "stdout",
          "text": [
            "\n",
            "\tWilcoxon signed rank test with continuity correction\n",
            "\n",
            "data:  uniform_1\n",
            "V = 0, p-value < 2.2e-16\n",
            "alternative hypothesis: true location is not equal to 51.80704\n",
            "\n",
            "\n",
            "\tWilcoxon signed rank test with continuity correction\n",
            "\n",
            "data:  uniform_2\n",
            "V = 62576, p-value = 0.988\n",
            "alternative hypothesis: true location is not equal to 5.038637\n",
            "\n",
            "\n",
            "\tWilcoxon signed rank test with continuity correction\n",
            "\n",
            "data:  uniform_3\n",
            "V = 125132, p-value < 2.2e-16\n",
            "alternative hypothesis: true location is not equal to 2.465377\n",
            "\n"
          ]
        }
      ]
    },
    {
      "cell_type": "code",
      "execution_count": 333,
      "metadata": {
        "colab": {
          "base_uri": "https://localhost:8080/"
        },
        "id": "fdmOGbHbsBs9",
        "outputId": "0b80c23f-87cc-476f-ed35-550a8445c742"
      },
      "outputs": [
        {
          "output_type": "stream",
          "name": "stdout",
          "text": [
            "False\n",
            "True\n",
            "False\n",
            "----------\n",
            "False\n",
            "True\n",
            "False\n"
          ]
        }
      ],
      "source": [
        "confidence_level = 0.95\n",
        "print(stats.mannwhitneyu(uniform_1, uniform_3, alternative='two-sided').pvalue > 1 - confidence_level)\n",
        "print(stats.mannwhitneyu(uniform_2, uniform_3, alternative='greater').pvalue > 1 - confidence_level)\n",
        "print(stats.mannwhitneyu(uniform_2, uniform_3, alternative='less').pvalue > 1 - confidence_level)\n",
        "print(10*'-')\n",
        "confidence_level = 0.99\n",
        "print(stats.mannwhitneyu(uniform_1, uniform_3, alternative='two-sided').pvalue > 1 - confidence_level)\n",
        "print(stats.mannwhitneyu(uniform_2, uniform_3, alternative='greater').pvalue > 1 - confidence_level)\n",
        "print(stats.mannwhitneyu(uniform_2, uniform_3, alternative='less').pvalue > 1 - confidence_level)"
      ]
    },
    {
      "cell_type": "code",
      "source": [
        "%%R\n",
        "\n",
        "print(wilcox.test(uniform_1, mu = mean(uniform_3), alternative = 'two.sided', exact = FALSE, conf.level = 0.95))\n",
        "print(wilcox.test(uniform_2, mu = mean(uniform_3), alternative = 'greater', exact = FALSE, conf.level = 0.95))\n",
        "print(wilcox.test(uniform_2, mu = mean(uniform_3), alternative = 'less', exact = FALSE, conf.level = 0.95))\n",
        "\n",
        "print(wilcox.test(uniform_1, mu = mean(uniform_3), alternative = 'two.sided',exact = FALSE, conf.level = 0.99))\n",
        "print(wilcox.test(uniform_2, mu = mean(uniform_3), alternative = 'greater', exact = FALSE, conf.level = 0.99))\n",
        "print(wilcox.test(uniform_2, mu = mean(uniform_3), alternative = 'less', exact = FALSE, conf.level = 0.99))"
      ],
      "metadata": {
        "colab": {
          "base_uri": "https://localhost:8080/"
        },
        "id": "5qR_P8w88cRk",
        "outputId": "ddd92cca-633c-4b1b-9be2-25325624fefb"
      },
      "execution_count": 334,
      "outputs": [
        {
          "output_type": "stream",
          "name": "stdout",
          "text": [
            "\n",
            "\tWilcoxon signed rank test with continuity correction\n",
            "\n",
            "data:  uniform_1\n",
            "V = 0, p-value < 2.2e-16\n",
            "alternative hypothesis: true location is not equal to 51.80704\n",
            "\n",
            "\n",
            "\tWilcoxon signed rank test with continuity correction\n",
            "\n",
            "data:  uniform_2\n",
            "V = 0, p-value = 1\n",
            "alternative hypothesis: true location is greater than 51.80704\n",
            "\n",
            "\n",
            "\tWilcoxon signed rank test with continuity correction\n",
            "\n",
            "data:  uniform_2\n",
            "V = 0, p-value < 2.2e-16\n",
            "alternative hypothesis: true location is less than 51.80704\n",
            "\n",
            "\n",
            "\tWilcoxon signed rank test with continuity correction\n",
            "\n",
            "data:  uniform_1\n",
            "V = 0, p-value < 2.2e-16\n",
            "alternative hypothesis: true location is not equal to 51.80704\n",
            "\n",
            "\n",
            "\tWilcoxon signed rank test with continuity correction\n",
            "\n",
            "data:  uniform_2\n",
            "V = 0, p-value = 1\n",
            "alternative hypothesis: true location is greater than 51.80704\n",
            "\n",
            "\n",
            "\tWilcoxon signed rank test with continuity correction\n",
            "\n",
            "data:  uniform_2\n",
            "V = 0, p-value < 2.2e-16\n",
            "alternative hypothesis: true location is less than 51.80704\n",
            "\n"
          ]
        }
      ]
    },
    {
      "cell_type": "markdown",
      "metadata": {
        "id": "CKZ7l5X2sBs9"
      },
      "source": [
        "##### c) Фишера, Левене, Бартлетта, Флигнера-Килина (проверка гипотез об однородности дисперсий). #####"
      ]
    },
    {
      "cell_type": "markdown",
      "metadata": {
        "id": "8xXB8FDGsBs-"
      },
      "source": [
        "Реализации тетста Фишера (F-test) не удалось найти в библиотеке scipy, поэтому реализуем ее сами\n",
        "$$ F = \\frac{\\mathrm{Var(X)}}{\\mathrm{Var(Y)}} $$\n",
        "Нулевая гипотеза заключается в том, что дисперсии двух выборок равны"
      ]
    },
    {
      "cell_type": "code",
      "execution_count": 335,
      "metadata": {
        "id": "dYgdXJHdsBs-"
      },
      "outputs": [],
      "source": [
        "def f_test(x, y):\n",
        "    x = np.array(x)\n",
        "    y = np.array(y)\n",
        "    f = np.var(x, ddof=1) / np.var(y, ddof=1) # calculate F test statistic\n",
        "    dfn = x.size - 1 #define degrees of freedom numerator\n",
        "    dfd = y.size - 1 #define degrees of freedom denominator\n",
        "    p = 1 - stats.f.cdf(f, dfn, dfd) #find p-value of F test statistic\n",
        "    return p"
      ]
    },
    {
      "cell_type": "code",
      "execution_count": 336,
      "metadata": {
        "id": "d2_I90zSsBs-"
      },
      "outputs": [],
      "source": [
        "dnorm_0 = np.random.normal(0, 1, size=100)\n",
        "dnorm_5 = np.random.normal(0, 5, size=100)\n",
        "dnorm_10 = np.random.normal(0, 10, size=100)"
      ]
    },
    {
      "cell_type": "code",
      "source": [
        "%%R\n",
        "\n",
        "dnorm_0 <- rnorm(100, mean = 0, sd = 1)\n",
        "dnorm_5 <- rnorm(100, mean = 0, sd = 5)\n",
        "dnorm_10 <- rnorm(100, mean = 0, sd = 10)"
      ],
      "metadata": {
        "id": "gDmebYzc9p-0"
      },
      "execution_count": 337,
      "outputs": []
    },
    {
      "cell_type": "code",
      "execution_count": 338,
      "metadata": {
        "colab": {
          "base_uri": "https://localhost:8080/"
        },
        "id": "-2h0RvzxsBs-",
        "outputId": "f52987dc-0917-45cc-c8e5-0c393cc9f573"
      },
      "outputs": [
        {
          "output_type": "stream",
          "name": "stdout",
          "text": [
            "True\n",
            "True\n",
            "True\n"
          ]
        }
      ],
      "source": [
        "confidence_level = 0.9\n",
        "print(f_test(dnorm_0, dnorm_10) > 1 - confidence_level)\n",
        "confidence_level = 0.95\n",
        "print(f_test(dnorm_0, dnorm_10) > 1 - confidence_level)\n",
        "confidence_level = 0.99\n",
        "print(f_test(dnorm_0, dnorm_10) > 1 - confidence_level)"
      ]
    },
    {
      "cell_type": "code",
      "source": [
        "%%R\n",
        "\n",
        "print(var.test(dnorm_0, dnorm_10, conf.level = 0.90))\n",
        "print(var.test(dnorm_0, dnorm_10, conf.level = 0.95))\n",
        "print(var.test(dnorm_0, dnorm_10, conf.level = 0.99))"
      ],
      "metadata": {
        "colab": {
          "base_uri": "https://localhost:8080/"
        },
        "id": "uDZPmPgP-PS3",
        "outputId": "c985970a-ff45-4009-ef19-bf5f7ee2ad33"
      },
      "execution_count": 339,
      "outputs": [
        {
          "output_type": "stream",
          "name": "stdout",
          "text": [
            "\n",
            "\tF test to compare two variances\n",
            "\n",
            "data:  dnorm_0 and dnorm_10\n",
            "F = 0.012116, num df = 99, denom df = 99, p-value < 2.2e-16\n",
            "alternative hypothesis: true ratio of variances is not equal to 1\n",
            "90 percent confidence interval:\n",
            " 0.008691054 0.016890253\n",
            "sample estimates:\n",
            "ratio of variances \n",
            "        0.01211586 \n",
            "\n",
            "\n",
            "\tF test to compare two variances\n",
            "\n",
            "data:  dnorm_0 and dnorm_10\n",
            "F = 0.012116, num df = 99, denom df = 99, p-value < 2.2e-16\n",
            "alternative hypothesis: true ratio of variances is not equal to 1\n",
            "95 percent confidence interval:\n",
            " 0.008152056 0.018007002\n",
            "sample estimates:\n",
            "ratio of variances \n",
            "        0.01211586 \n",
            "\n",
            "\n",
            "\tF test to compare two variances\n",
            "\n",
            "data:  dnorm_0 and dnorm_10\n",
            "F = 0.012116, num df = 99, denom df = 99, p-value < 2.2e-16\n",
            "alternative hypothesis: true ratio of variances is not equal to 1\n",
            "99 percent confidence interval:\n",
            " 0.007188871 0.020419630\n",
            "sample estimates:\n",
            "ratio of variances \n",
            "        0.01211586 \n",
            "\n"
          ]
        }
      ]
    },
    {
      "cell_type": "markdown",
      "metadata": {
        "id": "6eeq157UsBs-"
      },
      "source": [
        "Реализации тестов Левене, Бартлетта и Флигнера-Килина есть в библиотеке scipy, и тем более они не так чувствительны к нормальному распределению, в отличии от F теста"
      ]
    },
    {
      "cell_type": "code",
      "execution_count": 340,
      "metadata": {
        "colab": {
          "base_uri": "https://localhost:8080/"
        },
        "id": "7wHbY7YtsBs-",
        "outputId": "71d7ac14-c9ad-47bf-9649-a1047eddcb3c"
      },
      "outputs": [
        {
          "output_type": "stream",
          "name": "stdout",
          "text": [
            "{0.9: False, 0.95: True, 0.99: True}\n",
            "{0.9: True, 0.95: True, 0.99: True}\n",
            "{0.9: False, 0.95: True, 0.99: True}\n"
          ]
        }
      ],
      "source": [
        "# var = npq\n",
        "bin_1 = np.random.binomial(10, 0.5, size=100)\n",
        "bin_2 = np.random.binomial(10, 0.2, size=100)\n",
        "\n",
        "confidence_level = [0.90, 0.95, 0.99]\n",
        "result_levene = dict()\n",
        "for level in confidence_level:\n",
        "    result_levene[level] = stats.levene(bin_1, bin_2).pvalue > 1 - level\n",
        "print(result_levene)\n",
        "\n",
        "result_bartlett = dict()\n",
        "for level in confidence_level:\n",
        "    result_bartlett[level] = stats.bartlett(bin_1, bin_2).pvalue > 1 - level\n",
        "print(result_bartlett)\n",
        "\n",
        "result_fligner = dict()\n",
        "for level in confidence_level:\n",
        "    result_fligner[level] = stats.fligner(bin_1, bin_2).pvalue > 1 - level\n",
        "print(result_fligner)"
      ]
    },
    {
      "cell_type": "code",
      "source": [
        "%%R\n",
        "\n",
        "bin_1 <- rbinom(100, 10, prob = 0.5)\n",
        "bin_2 <- rbinom(100, 10, prob = 0.2)\n",
        "\n",
        "print(leveneTest(bin_1, bin_2))\n",
        "print(bartlett.test(bin_1, bin_2))\n",
        "print(fligner.test(bin_1, bin_2))"
      ],
      "metadata": {
        "colab": {
          "base_uri": "https://localhost:8080/"
        },
        "id": "L8AF1dQtAXvc",
        "outputId": "23515d33-bd9c-4d3c-8b86-317a00185f5e"
      },
      "execution_count": 341,
      "outputs": [
        {
          "output_type": "stream",
          "name": "stdout",
          "text": [
            "Levene's Test for Homogeneity of Variance (center = median)\n",
            "      Df F value Pr(>F)\n",
            "group  5  0.6235 0.6822\n",
            "      94               \n"
          ]
        },
        {
          "output_type": "stream",
          "name": "stderr",
          "text": [
            "WARNING:rpy2.rinterface_lib.callbacks:R[write to console]: Error in bartlett.test.default(bin_1, bin_2) : \n",
            "  there must be at least 2 observations in each group\n",
            "\n"
          ]
        },
        {
          "output_type": "stream",
          "name": "stdout",
          "text": [
            "\n",
            "Error in bartlett.test.default(bin_1, bin_2) : \n",
            "  there must be at least 2 observations in each group\n"
          ]
        }
      ]
    },
    {
      "cell_type": "markdown",
      "metadata": {
        "id": "0o5DgAumsBs-"
      },
      "source": [
        "### Исследовать корреляционные взаимосвязи в данных с помощью коэффициентов корреляции Пирсона, Спирмена и Кендалла. ###"
      ]
    },
    {
      "cell_type": "markdown",
      "metadata": {
        "id": "CnxLxzxNsBs-"
      },
      "source": [
        "Будем исследовать дополнительный датасет, связанный с эффективностью сна"
      ]
    },
    {
      "cell_type": "code",
      "execution_count": 342,
      "metadata": {
        "colab": {
          "base_uri": "https://localhost:8080/"
        },
        "id": "JNaBtb0jsBs-",
        "outputId": "674a1b01-f1d6-46a0-d642-bd9595eb4b8d"
      },
      "outputs": [
        {
          "output_type": "stream",
          "name": "stdout",
          "text": [
            "<class 'pandas.core.frame.DataFrame'>\n",
            "RangeIndex: 452 entries, 0 to 451\n",
            "Data columns (total 15 columns):\n",
            " #   Column                  Non-Null Count  Dtype  \n",
            "---  ------                  --------------  -----  \n",
            " 0   ID                      452 non-null    int64  \n",
            " 1   Age                     452 non-null    int64  \n",
            " 2   Gender                  452 non-null    object \n",
            " 3   Bedtime                 452 non-null    object \n",
            " 4   Wakeup time             452 non-null    object \n",
            " 5   Sleep duration          452 non-null    float64\n",
            " 6   Sleep efficiency        452 non-null    float64\n",
            " 7   REM sleep percentage    452 non-null    int64  \n",
            " 8   Deep sleep percentage   452 non-null    int64  \n",
            " 9   Light sleep percentage  452 non-null    int64  \n",
            " 10  Awakenings              432 non-null    float64\n",
            " 11  Caffeine consumption    427 non-null    float64\n",
            " 12  Alcohol consumption     438 non-null    float64\n",
            " 13  Smoking status          452 non-null    object \n",
            " 14  Exercise frequency      446 non-null    float64\n",
            "dtypes: float64(6), int64(5), object(4)\n",
            "memory usage: 53.1+ KB\n"
          ]
        }
      ],
      "source": [
        "df = pd.read_csv('Sleep_Efficiency.csv')\n",
        "df.info()"
      ]
    },
    {
      "cell_type": "code",
      "source": [
        "%%R\n",
        "\n",
        "df <- read.csv('Sleep_Efficiency.csv')\n",
        "rownames(df) <- NULL"
      ],
      "metadata": {
        "id": "av9gpfrmI_Df"
      },
      "execution_count": 343,
      "outputs": []
    },
    {
      "cell_type": "markdown",
      "metadata": {
        "id": "zN5aHM1ZsBs-"
      },
      "source": [
        "Исследуем коррелируемость Deep slepp percentage и Sleep efficiency, пользуясь коэффициентами Пирсона, Спирмена и Кендалла \\\n",
        "Нулевой гипотезой в данном случае является предположение, что выборки некоррелируют и нормально распредлены"
      ]
    },
    {
      "cell_type": "code",
      "execution_count": 344,
      "metadata": {
        "colab": {
          "base_uri": "https://localhost:8080/"
        },
        "id": "HD3qAyarsBs-",
        "outputId": "11a628f5-b8fb-4bb3-9a63-a7c1b3701d3f"
      },
      "outputs": [
        {
          "output_type": "stream",
          "name": "stdout",
          "text": [
            "Корреляция ненулевая: 1.4330145730238673e-96\n",
            "Корреляция положительная: 7.165072865119336e-97\n",
            "Корреляция отрицательная: 1.0\n"
          ]
        },
        {
          "output_type": "execute_result",
          "data": {
            "text/plain": [
              "0.7873351005513041"
            ]
          },
          "metadata": {},
          "execution_count": 344
        }
      ],
      "source": [
        "print(\"Корреляция ненулевая:\", stats.pearsonr(df['Deep sleep percentage'], df['Sleep efficiency'], alternative='two-sided').pvalue)\n",
        "print(\"Корреляция положительная:\", stats.pearsonr(df['Deep sleep percentage'], df['Sleep efficiency'], alternative='greater').pvalue)\n",
        "print(\"Корреляция отрицательная:\", stats.pearsonr(df['Deep sleep percentage'], df['Sleep efficiency'], alternative='less').pvalue)\n",
        "stats.pearsonr(df['Deep sleep percentage'], df['Sleep efficiency']).statistic"
      ]
    },
    {
      "cell_type": "code",
      "source": [
        "%%R\n",
        "\n",
        "print(cor.test(df$Deep.sleep.percentage, df$Sleep.efficiency, method = 'pearson', alternative = 'two.sided'))\n",
        "print(cor.test(df$Deep.sleep.percentage, df$Sleep.efficiency, method = 'pearson', alternative = 'greater'))\n",
        "print(cor.test(df$Deep.sleep.percentage, df$Sleep.efficiency, method = 'pearson', alternative = 'less'))"
      ],
      "metadata": {
        "colab": {
          "base_uri": "https://localhost:8080/"
        },
        "id": "Cjv1JyOEIa5a",
        "outputId": "431bd9ef-dbd5-4f45-9a02-9facadab7b83"
      },
      "execution_count": 345,
      "outputs": [
        {
          "output_type": "stream",
          "name": "stdout",
          "text": [
            "\n",
            "\tPearson's product-moment correlation\n",
            "\n",
            "data:  df$Deep.sleep.percentage and df$Sleep.efficiency\n",
            "t = 27.09, df = 450, p-value < 2.2e-16\n",
            "alternative hypothesis: true correlation is not equal to 0\n",
            "95 percent confidence interval:\n",
            " 0.7495316 0.8200199\n",
            "sample estimates:\n",
            "      cor \n",
            "0.7873351 \n",
            "\n",
            "\n",
            "\tPearson's product-moment correlation\n",
            "\n",
            "data:  df$Deep.sleep.percentage and df$Sleep.efficiency\n",
            "t = 27.09, df = 450, p-value < 2.2e-16\n",
            "alternative hypothesis: true correlation is greater than 0\n",
            "95 percent confidence interval:\n",
            " 0.7559758 1.0000000\n",
            "sample estimates:\n",
            "      cor \n",
            "0.7873351 \n",
            "\n",
            "\n",
            "\tPearson's product-moment correlation\n",
            "\n",
            "data:  df$Deep.sleep.percentage and df$Sleep.efficiency\n",
            "t = 27.09, df = 450, p-value = 1\n",
            "alternative hypothesis: true correlation is less than 0\n",
            "95 percent confidence interval:\n",
            " -1.0000000  0.8150888\n",
            "sample estimates:\n",
            "      cor \n",
            "0.7873351 \n",
            "\n"
          ]
        }
      ]
    },
    {
      "cell_type": "code",
      "execution_count": 346,
      "metadata": {
        "colab": {
          "base_uri": "https://localhost:8080/"
        },
        "id": "R9cHM7tBsBs-",
        "outputId": "ddfd8db1-0397-4906-8fd9-7649a52a496f"
      },
      "outputs": [
        {
          "output_type": "stream",
          "name": "stdout",
          "text": [
            "Корреляция ненулевая: 5.296071059339605e-36\n",
            "Корреляция положительная: 2.6480355296698026e-36\n",
            "Корреляция отрицательная: 1.0\n"
          ]
        },
        {
          "output_type": "execute_result",
          "data": {
            "text/plain": [
              "0.5428515557610679"
            ]
          },
          "metadata": {},
          "execution_count": 346
        }
      ],
      "source": [
        "print(\"Корреляция ненулевая:\", stats.spearmanr(df['Deep sleep percentage'], df['Sleep efficiency'], alternative='two-sided').pvalue)\n",
        "print(\"Корреляция положительная:\", stats.spearmanr(df['Deep sleep percentage'], df['Sleep efficiency'], alternative='greater').pvalue)\n",
        "print(\"Корреляция отрицательная:\", stats.spearmanr(df['Deep sleep percentage'], df['Sleep efficiency'], alternative='less').pvalue)\n",
        "stats.spearmanr(df['Deep sleep percentage'], df['Sleep efficiency']).statistic"
      ]
    },
    {
      "cell_type": "code",
      "source": [
        "%%R\n",
        "\n",
        "print(cor.test(df$Deep.sleep.percentage, df$Sleep.efficiency, method = 'spearman', alternative = 'two.sided'))\n",
        "print(cor.test(df$Deep.sleep.percentage, df$Sleep.efficiency, method = 'spearman', alternative = 'greater'))\n",
        "print(cor.test(df$Deep.sleep.percentage, df$Sleep.efficiency, method = 'spearman', alternative = 'less'))"
      ],
      "metadata": {
        "colab": {
          "base_uri": "https://localhost:8080/"
        },
        "id": "d7aBk22iIdAq",
        "outputId": "62d24ab8-c7f5-45db-a571-8d217183e61f"
      },
      "execution_count": 347,
      "outputs": [
        {
          "output_type": "stream",
          "name": "stdout",
          "text": [
            "\n",
            "\tSpearman's rank correlation rho\n",
            "\n",
            "data:  df$Deep.sleep.percentage and df$Sleep.efficiency\n",
            "S = 7035892, p-value < 2.2e-16\n",
            "alternative hypothesis: true rho is not equal to 0\n",
            "sample estimates:\n",
            "      rho \n",
            "0.5428516 \n",
            "\n",
            "\n",
            "\tSpearman's rank correlation rho\n",
            "\n",
            "data:  df$Deep.sleep.percentage and df$Sleep.efficiency\n",
            "S = 7035892, p-value < 2.2e-16\n",
            "alternative hypothesis: true rho is greater than 0\n",
            "sample estimates:\n",
            "      rho \n",
            "0.5428516 \n",
            "\n",
            "\n",
            "\tSpearman's rank correlation rho\n",
            "\n",
            "data:  df$Deep.sleep.percentage and df$Sleep.efficiency\n",
            "S = 7035892, p-value = 1\n",
            "alternative hypothesis: true rho is less than 0\n",
            "sample estimates:\n",
            "      rho \n",
            "0.5428516 \n",
            "\n"
          ]
        }
      ]
    },
    {
      "cell_type": "code",
      "execution_count": 348,
      "metadata": {
        "colab": {
          "base_uri": "https://localhost:8080/"
        },
        "id": "q6Efow7UsBs_",
        "outputId": "cd448644-6775-4d20-8daa-7c80f954b467"
      },
      "outputs": [
        {
          "output_type": "stream",
          "name": "stdout",
          "text": [
            "Корреляция ненулевая: 7.617438516570207e-30\n",
            "Корреляция положительная: 3.8087192582851036e-30\n",
            "Корреляция отрицательная: 1.0\n"
          ]
        },
        {
          "output_type": "execute_result",
          "data": {
            "text/plain": [
              "0.37370510201385554"
            ]
          },
          "metadata": {},
          "execution_count": 348
        }
      ],
      "source": [
        "print(\"Корреляция ненулевая:\", stats.kendalltau(df['Deep sleep percentage'], df['Sleep efficiency'], alternative='two-sided').pvalue)\n",
        "print(\"Корреляция положительная:\", stats.kendalltau(df['Deep sleep percentage'], df['Sleep efficiency'], alternative='greater').pvalue)\n",
        "print(\"Корреляция отрицательная:\", stats.kendalltau(df['Deep sleep percentage'], df['Sleep efficiency'], alternative='less').pvalue)\n",
        "stats.kendalltau(df['Deep sleep percentage'], df['Sleep efficiency']).statistic"
      ]
    },
    {
      "cell_type": "code",
      "source": [
        "%%R\n",
        "\n",
        "print(cor.test(df$Deep.sleep.percentage, df$Sleep.efficiency, method = 'kendall', alternative = 'two.sided'))\n",
        "print(cor.test(df$Deep.sleep.percentage, df$Sleep.efficiency, method = 'kendall', alternative = 'greater'))\n",
        "print(cor.test(df$Deep.sleep.percentage, df$Sleep.efficiency, method = 'kendall', alternative = 'less'))"
      ],
      "metadata": {
        "colab": {
          "base_uri": "https://localhost:8080/"
        },
        "id": "a8nK2wi1IeNK",
        "outputId": "d5192401-76e4-41b1-fc40-a74b7504ba60"
      },
      "execution_count": 349,
      "outputs": [
        {
          "output_type": "stream",
          "name": "stdout",
          "text": [
            "\n",
            "\tKendall's rank correlation tau\n",
            "\n",
            "data:  df$Deep.sleep.percentage and df$Sleep.efficiency\n",
            "z = 11.348, p-value < 2.2e-16\n",
            "alternative hypothesis: true tau is not equal to 0\n",
            "sample estimates:\n",
            "      tau \n",
            "0.3737051 \n",
            "\n",
            "\n",
            "\tKendall's rank correlation tau\n",
            "\n",
            "data:  df$Deep.sleep.percentage and df$Sleep.efficiency\n",
            "z = 11.348, p-value < 2.2e-16\n",
            "alternative hypothesis: true tau is greater than 0\n",
            "sample estimates:\n",
            "      tau \n",
            "0.3737051 \n",
            "\n",
            "\n",
            "\tKendall's rank correlation tau\n",
            "\n",
            "data:  df$Deep.sleep.percentage and df$Sleep.efficiency\n",
            "z = 11.348, p-value = 1\n",
            "alternative hypothesis: true tau is less than 0\n",
            "sample estimates:\n",
            "      tau \n",
            "0.3737051 \n",
            "\n"
          ]
        }
      ]
    },
    {
      "cell_type": "markdown",
      "metadata": {
        "id": "qpQXFiYPsBs_"
      },
      "source": [
        "### Продемонстрировать использование методов хи-квадрат, точного теста Фишера, теста МакНемара, Кохрана-Мантеля-Хензеля. ###"
      ]
    },
    {
      "cell_type": "code",
      "execution_count": 350,
      "metadata": {
        "colab": {
          "base_uri": "https://localhost:8080/"
        },
        "id": "mLnxpfH-sBs_",
        "outputId": "fcdfe128-8a02-46f4-a93f-df0e87fc0ba9"
      },
      "outputs": [
        {
          "output_type": "stream",
          "name": "stdout",
          "text": [
            "True\n",
            "False\n"
          ]
        }
      ],
      "source": [
        "obs = df['Sleep duration']\n",
        "exp = [df['Sleep duration'].mean()] * df.shape[0]\n",
        "print(stats.chisquare(f_obs=obs, f_exp=exp).pvalue > 0.05)\n",
        "\n",
        "obs = df['Light sleep percentage']\n",
        "exp = [df['Light sleep percentage'].mean()] * df.shape[0]\n",
        "print(stats.chisquare(f_obs=obs, f_exp=exp).pvalue > 0.05)"
      ]
    },
    {
      "cell_type": "markdown",
      "metadata": {
        "id": "PDrj16MTsBs_"
      },
      "source": [
        "Критерий хи-квадрат проверяет нулевую гипотезу о том, что категориальные данные имеют заданные частоты"
      ]
    },
    {
      "cell_type": "code",
      "source": [
        "%%R\n",
        "\n",
        "print(chisq.test(df$Sleep.duration))\n",
        "print(chisq.test(df$Light.sleep.percentage))"
      ],
      "metadata": {
        "colab": {
          "base_uri": "https://localhost:8080/"
        },
        "id": "6sk0x2PVK2yI",
        "outputId": "cb787499-ea5e-4d2b-809e-9427c42c8fbc"
      },
      "execution_count": 351,
      "outputs": [
        {
          "output_type": "stream",
          "name": "stdout",
          "text": [
            "\n",
            "\tChi-squared test for given probabilities\n",
            "\n",
            "data:  df$Sleep.duration\n",
            "X-squared = 45.37, df = 451, p-value = 1\n",
            "\n",
            "\n",
            "\tChi-squared test for given probabilities\n",
            "\n",
            "data:  df$Light.sleep.percentage\n",
            "X-squared = 4306, df = 451, p-value < 2.2e-16\n",
            "\n"
          ]
        }
      ]
    },
    {
      "cell_type": "markdown",
      "metadata": {
        "id": "5Br6otq8sBs_"
      },
      "source": [
        "Нулевая гипотеза точного теста Фишера заключается в том, что истинное отношение шансов популяций, лежащих в основе наблюдений равно единице"
      ]
    },
    {
      "cell_type": "code",
      "source": [
        "small_df = pd.get_dummies(df, columns=['Gender', 'Smoking status'], dtype=int)\n",
        "female_smoke = small_df[(small_df['Gender_Female'] == 1) & (small_df['Smoking status_Yes'] == 1)].shape[0]\n",
        "male_smoke = small_df[(small_df['Gender_Male'] == 1) & (small_df['Smoking status_Yes'] == 1)].shape[0]\n",
        "female_nosmoke = small_df[(small_df['Gender_Female'] == 1) & (small_df['Smoking status_No'] == 1)].shape[0]\n",
        "male_nosmoke = small_df[(small_df['Gender_Male'] == 1) & (small_df['Smoking status_No'] == 1)].shape[0]\n",
        "\n",
        "table = [[female_smoke, female_nosmoke], [male_smoke, male_nosmoke]]\n",
        "print(stats.fisher_exact(table).pvalue > 0.05)"
      ],
      "metadata": {
        "colab": {
          "base_uri": "https://localhost:8080/"
        },
        "id": "qHW4mMlu80iZ",
        "outputId": "8471dd96-325b-4276-e16f-833e7aa558f4"
      },
      "execution_count": 352,
      "outputs": [
        {
          "output_type": "stream",
          "name": "stdout",
          "text": [
            "False\n"
          ]
        }
      ]
    },
    {
      "cell_type": "code",
      "source": [
        "%%R\n",
        "\n",
        "small_df <- df[, -c(3, 14)]\n",
        "\n",
        "small_df$Gender.Female <- ifelse(df$Gender == 'Female', 1, 0)\n",
        "small_df$Gender.Male <- ifelse(df$Gender == 'Male', 1, 0)\n",
        "small_df$Smoking.status.Yes <- ifelse(df$Smoking.status == 'Yes', 1, 0)\n",
        "small_df$Smoking.status.No <- ifelse(df$Smoking.status == 'No', 1, 0)\n",
        "\n",
        "female_smoke = nrow(small_df[(small_df$Gender.Female == 1) & (small_df$Smoking.status.Yes == 1), ])\n",
        "male_smoke = nrow(small_df[(small_df$Gender.Male == 1) & (small_df$Smoking.status.Yes == 1), ])\n",
        "female_nosmoke = nrow(small_df[(small_df$Gender.Female == 1) & (small_df$Smoking.status.No == 1), ])\n",
        "male_nosmoke = nrow(small_df[(small_df$Gender.Male == 1) & (small_df$Smoking.status.No == 1), ])\n",
        "\n",
        "table <- matrix(c(female_smoke, female_nosmoke, male_smoke, male_nosmoke), nrow = 2, ncol = 2, byrow = TRUE)\n",
        "\n",
        "print(fisher.test(table))"
      ],
      "metadata": {
        "colab": {
          "base_uri": "https://localhost:8080/"
        },
        "id": "5Pr6RE49A6V0",
        "outputId": "48721b26-ff60-46b3-d09b-cde797c0c1d5"
      },
      "execution_count": 353,
      "outputs": [
        {
          "output_type": "stream",
          "name": "stdout",
          "text": [
            "\n",
            "\tFisher's Exact Test for Count Data\n",
            "\n",
            "data:  table\n",
            "p-value = 0.002865\n",
            "alternative hypothesis: true odds ratio is not equal to 1\n",
            "95 percent confidence interval:\n",
            " 0.3583724 0.8217580\n",
            "sample estimates:\n",
            "odds ratio \n",
            " 0.5439744 \n",
            "\n"
          ]
        }
      ]
    },
    {
      "cell_type": "markdown",
      "source": [
        "Нулевая гипотеза теста МакНемара утверждает, что маргинальные распределения для всех исходов совпадают"
      ],
      "metadata": {
        "id": "avL-e1MNMZib"
      }
    },
    {
      "cell_type": "code",
      "execution_count": 354,
      "metadata": {
        "colab": {
          "base_uri": "https://localhost:8080/"
        },
        "id": "mLRD2CY-sBs_",
        "outputId": "d68d60db-cf2c-4d7a-950c-138120fd070e"
      },
      "outputs": [
        {
          "output_type": "stream",
          "name": "stdout",
          "text": [
            "False\n"
          ]
        }
      ],
      "source": [
        "from statsmodels.stats.contingency_tables import mcnemar\n",
        "\n",
        "print(mcnemar(table, exact=False, correction=False).pvalue > 0.05)"
      ]
    },
    {
      "cell_type": "code",
      "source": [
        "%%R\n",
        "\n",
        "print(mcnemar.test(table))"
      ],
      "metadata": {
        "colab": {
          "base_uri": "https://localhost:8080/"
        },
        "id": "SKBW6IvqA4et",
        "outputId": "6f61dd20-44a4-4385-b6ff-cb6ea4ef8f5b"
      },
      "execution_count": 355,
      "outputs": [
        {
          "output_type": "stream",
          "name": "stdout",
          "text": [
            "\n",
            "\tMcNemar's Chi-squared test with continuity correction\n",
            "\n",
            "data:  table\n",
            "McNemar's chi-squared = 18.598, df = 1, p-value = 1.614e-05\n",
            "\n"
          ]
        }
      ]
    },
    {
      "cell_type": "code",
      "source": [
        "df['Age'].value_counts().sort_values()"
      ],
      "metadata": {
        "colab": {
          "base_uri": "https://localhost:8080/"
        },
        "id": "GUJ11bY2_NVB",
        "outputId": "3a041128-5f8c-48d2-9d9c-197946b9984f"
      },
      "execution_count": 356,
      "outputs": [
        {
          "output_type": "execute_result",
          "data": {
            "text/plain": [
              "12     1\n",
              "66     1\n",
              "17     1\n",
              "67     1\n",
              "13     1\n",
              "      ..\n",
              "40    17\n",
              "48    17\n",
              "37    18\n",
              "27    19\n",
              "52    19\n",
              "Name: Age, Length: 61, dtype: int64"
            ]
          },
          "metadata": {},
          "execution_count": 356
        }
      ]
    },
    {
      "cell_type": "markdown",
      "metadata": {
        "id": "AVe_TGZNsBs_"
      },
      "source": [
        "Нулевая гипотеза, проверяемая при помощи CMH-критерия, заключается в том, что между двумя анализируемыми качественными признаками нет никакой связи. Технически говоря, тестируется гипотеза о том, что отношение шансов в каждой из K таблиц сопряженности равно 1 \\"
      ]
    },
    {
      "cell_type": "code",
      "execution_count": 357,
      "metadata": {
        "colab": {
          "base_uri": "https://localhost:8080/"
        },
        "id": "r4pAjN8WsBs_",
        "outputId": "71a6d1f6-62fb-4ff1-e889-00beb776bd1c"
      },
      "outputs": [
        {
          "output_type": "stream",
          "name": "stdout",
          "text": [
            "                   Estimate   LCB    UCB \n",
            "-----------------------------------------\n",
            "Pooled odds           0.390   0.142 1.073\n",
            "Pooled log odds      -0.941  -1.952 0.070\n",
            "Pooled risk ratio     0.576              \n",
            "                                         \n",
            "                 Statistic P-value \n",
            "-----------------------------------\n",
            "Test of OR=1         3.636   0.057 \n",
            "Test constant OR     5.323   0.256 \n",
            "                     \n",
            "---------------------\n",
            "Number of tables  5  \n",
            "Min n            17  \n",
            "Max n            19  \n",
            "Avg n            18  \n",
            "Total n          90  \n",
            "---------------------\n"
          ]
        }
      ],
      "source": [
        "from statsmodels.stats.contingency_tables import StratifiedTable\n",
        "\n",
        "tables = []\n",
        "ages = [40, 48, 37, 27, 52]\n",
        "for age in ages:\n",
        "  female_smoke = small_df[(small_df['Gender_Female'] == 1) & (small_df['Smoking status_Yes'] == 1) & (small_df['Age'] == age)].shape[0]\n",
        "  male_smoke = small_df[(small_df['Gender_Male'] == 1) & (small_df['Smoking status_Yes'] == 1) & (small_df['Age'] == age)].shape[0]\n",
        "  female_nosmoke = small_df[(small_df['Gender_Female'] == 1) & (small_df['Smoking status_No'] == 1) & (small_df['Age'] == age)].shape[0]\n",
        "  male_nosmoke = small_df[(small_df['Gender_Male'] == 1) & (small_df['Smoking status_No'] == 1) & (small_df['Age'] == age)].shape[0]\n",
        "  table = [[female_smoke, female_nosmoke], [male_smoke, male_nosmoke]]\n",
        "  tables.append(table)\n",
        "\n",
        "print(StratifiedTable(tables=tables).summary())"
      ]
    },
    {
      "cell_type": "code",
      "source": [
        "%%R\n",
        "\n",
        "tables = c()\n",
        "\n",
        "for (age in c(40, 48, 37, 27, 52)){\n",
        "  female_smoke = nrow(small_df[(small_df$Gender.Female == 1) & (small_df$Smoking.status.Yes == 1) & (small_df$Age == age), ])\n",
        "  male_smoke = nrow(small_df[(small_df$Gender.Male == 1) & (small_df$Smoking.status.Yes == 1) & (small_df$Age == age), ])\n",
        "  female_nosmoke = nrow(small_df[(small_df$Gender.Female == 1) & (small_df$Smoking.status.No == 1) & (small_df$Age == age), ])\n",
        "  male_nosmoke = nrow(small_df[(small_df$Gender.Male == 1) & (small_df$Smoking.status.No == 1) & (small_df$Age == age), ])\n",
        "\n",
        "  tables = append(tables, matrix(c(female_smoke, female_nosmoke, male_smoke, male_nosmoke), nrow = 2, ncol = 2, byrow = TRUE))\n",
        "}\n",
        "\n",
        "tables <- array(tables, dim = c(2, 2, 5))\n",
        "\n",
        "print(mantelhaen.test(dataCMH), exact=T)"
      ],
      "metadata": {
        "colab": {
          "base_uri": "https://localhost:8080/"
        },
        "id": "n2jCMbEiA2o4",
        "outputId": "2c40009c-7b46-4100-8146-1a01d0e22b83"
      },
      "execution_count": 358,
      "outputs": [
        {
          "output_type": "stream",
          "name": "stdout",
          "text": [
            "\n",
            "\tMantel-Haenszel chi-squared test with continuity correction\n",
            "\n",
            "data:  dataCMH\n",
            "Mantel-Haenszel X-squared = 2.7385, df = 1, p-value = 0.09796\n",
            "alternative hypothesis: true common odds ratio is not equal to 1\n",
            "95 percent confidence interval:\n",
            " 0.141986 1.073011\n",
            "sample estimates:\n",
            "common odds ratio \n",
            "        0.3903237 \n",
            "\n"
          ]
        }
      ]
    },
    {
      "cell_type": "markdown",
      "metadata": {
        "id": "CZyMpj16sBtK"
      },
      "source": [
        "### Проверить наличие мультиколлинеарности в данных с помощью корреляционной матрицы и фактора инфляции дисперсии. ###"
      ]
    },
    {
      "cell_type": "code",
      "execution_count": 359,
      "metadata": {
        "colab": {
          "base_uri": "https://localhost:8080/"
        },
        "id": "-kInEeUhsBtK",
        "outputId": "b57ccad0-6e31-4de9-ebdf-22489f8e7754"
      },
      "outputs": [
        {
          "output_type": "stream",
          "name": "stdout",
          "text": [
            "<class 'pandas.core.frame.DataFrame'>\n",
            "RangeIndex: 452 entries, 0 to 451\n",
            "Data columns (total 15 columns):\n",
            " #   Column                  Non-Null Count  Dtype  \n",
            "---  ------                  --------------  -----  \n",
            " 0   ID                      452 non-null    int64  \n",
            " 1   Age                     452 non-null    int64  \n",
            " 2   Gender                  452 non-null    object \n",
            " 3   Bedtime                 452 non-null    object \n",
            " 4   Wakeup time             452 non-null    object \n",
            " 5   Sleep duration          452 non-null    float64\n",
            " 6   Sleep efficiency        452 non-null    float64\n",
            " 7   REM sleep percentage    452 non-null    int64  \n",
            " 8   Deep sleep percentage   452 non-null    int64  \n",
            " 9   Light sleep percentage  452 non-null    int64  \n",
            " 10  Awakenings              432 non-null    float64\n",
            " 11  Caffeine consumption    427 non-null    float64\n",
            " 12  Alcohol consumption     438 non-null    float64\n",
            " 13  Smoking status          452 non-null    object \n",
            " 14  Exercise frequency      446 non-null    float64\n",
            "dtypes: float64(6), int64(5), object(4)\n",
            "memory usage: 53.1+ KB\n"
          ]
        }
      ],
      "source": [
        "df.info()"
      ]
    },
    {
      "cell_type": "markdown",
      "metadata": {
        "id": "6Lo5IpqRsBtK"
      },
      "source": [
        "Для построения корреляционной матрицы выберем поля целого или вещественного типа."
      ]
    },
    {
      "cell_type": "code",
      "execution_count": 360,
      "metadata": {
        "colab": {
          "base_uri": "https://localhost:8080/",
          "height": 387
        },
        "id": "-EHPxX1osBtK",
        "outputId": "5146e6d0-4ae0-4b22-e003-e4b38b72b1a0"
      },
      "outputs": [
        {
          "output_type": "execute_result",
          "data": {
            "text/plain": [
              "                       Sleep duration  Sleep efficiency  REM sleep percentage  \\\n",
              "Sleep duration               1.000000         -0.027467             -0.015940   \n",
              "Sleep efficiency            -0.027467          1.000000              0.062362   \n",
              "REM sleep percentage        -0.015940          0.062362              1.000000   \n",
              "Deep sleep percentage       -0.037304          0.787335             -0.208159   \n",
              "Awakenings                   0.004939         -0.564979             -0.025332   \n",
              "Caffeine consumption        -0.014802          0.065082              0.060037   \n",
              "Alcohol consumption         -0.046243         -0.389624             -0.053258   \n",
              "Exercise frequency          -0.068272          0.259563              0.031768   \n",
              "\n",
              "                       Deep sleep percentage  Awakenings  \\\n",
              "Sleep duration                     -0.037304    0.004939   \n",
              "Sleep efficiency                    0.787335   -0.564979   \n",
              "REM sleep percentage               -0.208159   -0.025332   \n",
              "Deep sleep percentage               1.000000   -0.308267   \n",
              "Awakenings                         -0.308267    1.000000   \n",
              "Caffeine consumption                0.001742   -0.108615   \n",
              "Alcohol consumption                -0.361731    0.206090   \n",
              "Exercise frequency                  0.179102   -0.219578   \n",
              "\n",
              "                       Caffeine consumption  Alcohol consumption  \\\n",
              "Sleep duration                    -0.014802            -0.046243   \n",
              "Sleep efficiency                   0.065082            -0.389624   \n",
              "REM sleep percentage               0.060037            -0.053258   \n",
              "Deep sleep percentage              0.001742            -0.361731   \n",
              "Awakenings                        -0.108615             0.206090   \n",
              "Caffeine consumption               1.000000            -0.123308   \n",
              "Alcohol consumption               -0.123308             1.000000   \n",
              "Exercise frequency                -0.068224             0.006934   \n",
              "\n",
              "                       Exercise frequency  \n",
              "Sleep duration                  -0.068272  \n",
              "Sleep efficiency                 0.259563  \n",
              "REM sleep percentage             0.031768  \n",
              "Deep sleep percentage            0.179102  \n",
              "Awakenings                      -0.219578  \n",
              "Caffeine consumption            -0.068224  \n",
              "Alcohol consumption              0.006934  \n",
              "Exercise frequency               1.000000  "
            ],
            "text/html": [
              "\n",
              "  <div id=\"df-6eac430a-e0c7-4fe7-8293-8db840ab3b4e\" class=\"colab-df-container\">\n",
              "    <div>\n",
              "<style scoped>\n",
              "    .dataframe tbody tr th:only-of-type {\n",
              "        vertical-align: middle;\n",
              "    }\n",
              "\n",
              "    .dataframe tbody tr th {\n",
              "        vertical-align: top;\n",
              "    }\n",
              "\n",
              "    .dataframe thead th {\n",
              "        text-align: right;\n",
              "    }\n",
              "</style>\n",
              "<table border=\"1\" class=\"dataframe\">\n",
              "  <thead>\n",
              "    <tr style=\"text-align: right;\">\n",
              "      <th></th>\n",
              "      <th>Sleep duration</th>\n",
              "      <th>Sleep efficiency</th>\n",
              "      <th>REM sleep percentage</th>\n",
              "      <th>Deep sleep percentage</th>\n",
              "      <th>Awakenings</th>\n",
              "      <th>Caffeine consumption</th>\n",
              "      <th>Alcohol consumption</th>\n",
              "      <th>Exercise frequency</th>\n",
              "    </tr>\n",
              "  </thead>\n",
              "  <tbody>\n",
              "    <tr>\n",
              "      <th>Sleep duration</th>\n",
              "      <td>1.000000</td>\n",
              "      <td>-0.027467</td>\n",
              "      <td>-0.015940</td>\n",
              "      <td>-0.037304</td>\n",
              "      <td>0.004939</td>\n",
              "      <td>-0.014802</td>\n",
              "      <td>-0.046243</td>\n",
              "      <td>-0.068272</td>\n",
              "    </tr>\n",
              "    <tr>\n",
              "      <th>Sleep efficiency</th>\n",
              "      <td>-0.027467</td>\n",
              "      <td>1.000000</td>\n",
              "      <td>0.062362</td>\n",
              "      <td>0.787335</td>\n",
              "      <td>-0.564979</td>\n",
              "      <td>0.065082</td>\n",
              "      <td>-0.389624</td>\n",
              "      <td>0.259563</td>\n",
              "    </tr>\n",
              "    <tr>\n",
              "      <th>REM sleep percentage</th>\n",
              "      <td>-0.015940</td>\n",
              "      <td>0.062362</td>\n",
              "      <td>1.000000</td>\n",
              "      <td>-0.208159</td>\n",
              "      <td>-0.025332</td>\n",
              "      <td>0.060037</td>\n",
              "      <td>-0.053258</td>\n",
              "      <td>0.031768</td>\n",
              "    </tr>\n",
              "    <tr>\n",
              "      <th>Deep sleep percentage</th>\n",
              "      <td>-0.037304</td>\n",
              "      <td>0.787335</td>\n",
              "      <td>-0.208159</td>\n",
              "      <td>1.000000</td>\n",
              "      <td>-0.308267</td>\n",
              "      <td>0.001742</td>\n",
              "      <td>-0.361731</td>\n",
              "      <td>0.179102</td>\n",
              "    </tr>\n",
              "    <tr>\n",
              "      <th>Awakenings</th>\n",
              "      <td>0.004939</td>\n",
              "      <td>-0.564979</td>\n",
              "      <td>-0.025332</td>\n",
              "      <td>-0.308267</td>\n",
              "      <td>1.000000</td>\n",
              "      <td>-0.108615</td>\n",
              "      <td>0.206090</td>\n",
              "      <td>-0.219578</td>\n",
              "    </tr>\n",
              "    <tr>\n",
              "      <th>Caffeine consumption</th>\n",
              "      <td>-0.014802</td>\n",
              "      <td>0.065082</td>\n",
              "      <td>0.060037</td>\n",
              "      <td>0.001742</td>\n",
              "      <td>-0.108615</td>\n",
              "      <td>1.000000</td>\n",
              "      <td>-0.123308</td>\n",
              "      <td>-0.068224</td>\n",
              "    </tr>\n",
              "    <tr>\n",
              "      <th>Alcohol consumption</th>\n",
              "      <td>-0.046243</td>\n",
              "      <td>-0.389624</td>\n",
              "      <td>-0.053258</td>\n",
              "      <td>-0.361731</td>\n",
              "      <td>0.206090</td>\n",
              "      <td>-0.123308</td>\n",
              "      <td>1.000000</td>\n",
              "      <td>0.006934</td>\n",
              "    </tr>\n",
              "    <tr>\n",
              "      <th>Exercise frequency</th>\n",
              "      <td>-0.068272</td>\n",
              "      <td>0.259563</td>\n",
              "      <td>0.031768</td>\n",
              "      <td>0.179102</td>\n",
              "      <td>-0.219578</td>\n",
              "      <td>-0.068224</td>\n",
              "      <td>0.006934</td>\n",
              "      <td>1.000000</td>\n",
              "    </tr>\n",
              "  </tbody>\n",
              "</table>\n",
              "</div>\n",
              "    <div class=\"colab-df-buttons\">\n",
              "\n",
              "  <div class=\"colab-df-container\">\n",
              "    <button class=\"colab-df-convert\" onclick=\"convertToInteractive('df-6eac430a-e0c7-4fe7-8293-8db840ab3b4e')\"\n",
              "            title=\"Convert this dataframe to an interactive table.\"\n",
              "            style=\"display:none;\">\n",
              "\n",
              "  <svg xmlns=\"http://www.w3.org/2000/svg\" height=\"24px\" viewBox=\"0 -960 960 960\">\n",
              "    <path d=\"M120-120v-720h720v720H120Zm60-500h600v-160H180v160Zm220 220h160v-160H400v160Zm0 220h160v-160H400v160ZM180-400h160v-160H180v160Zm440 0h160v-160H620v160ZM180-180h160v-160H180v160Zm440 0h160v-160H620v160Z\"/>\n",
              "  </svg>\n",
              "    </button>\n",
              "\n",
              "  <style>\n",
              "    .colab-df-container {\n",
              "      display:flex;\n",
              "      gap: 12px;\n",
              "    }\n",
              "\n",
              "    .colab-df-convert {\n",
              "      background-color: #E8F0FE;\n",
              "      border: none;\n",
              "      border-radius: 50%;\n",
              "      cursor: pointer;\n",
              "      display: none;\n",
              "      fill: #1967D2;\n",
              "      height: 32px;\n",
              "      padding: 0 0 0 0;\n",
              "      width: 32px;\n",
              "    }\n",
              "\n",
              "    .colab-df-convert:hover {\n",
              "      background-color: #E2EBFA;\n",
              "      box-shadow: 0px 1px 2px rgba(60, 64, 67, 0.3), 0px 1px 3px 1px rgba(60, 64, 67, 0.15);\n",
              "      fill: #174EA6;\n",
              "    }\n",
              "\n",
              "    .colab-df-buttons div {\n",
              "      margin-bottom: 4px;\n",
              "    }\n",
              "\n",
              "    [theme=dark] .colab-df-convert {\n",
              "      background-color: #3B4455;\n",
              "      fill: #D2E3FC;\n",
              "    }\n",
              "\n",
              "    [theme=dark] .colab-df-convert:hover {\n",
              "      background-color: #434B5C;\n",
              "      box-shadow: 0px 1px 3px 1px rgba(0, 0, 0, 0.15);\n",
              "      filter: drop-shadow(0px 1px 2px rgba(0, 0, 0, 0.3));\n",
              "      fill: #FFFFFF;\n",
              "    }\n",
              "  </style>\n",
              "\n",
              "    <script>\n",
              "      const buttonEl =\n",
              "        document.querySelector('#df-6eac430a-e0c7-4fe7-8293-8db840ab3b4e button.colab-df-convert');\n",
              "      buttonEl.style.display =\n",
              "        google.colab.kernel.accessAllowed ? 'block' : 'none';\n",
              "\n",
              "      async function convertToInteractive(key) {\n",
              "        const element = document.querySelector('#df-6eac430a-e0c7-4fe7-8293-8db840ab3b4e');\n",
              "        const dataTable =\n",
              "          await google.colab.kernel.invokeFunction('convertToInteractive',\n",
              "                                                    [key], {});\n",
              "        if (!dataTable) return;\n",
              "\n",
              "        const docLinkHtml = 'Like what you see? Visit the ' +\n",
              "          '<a target=\"_blank\" href=https://colab.research.google.com/notebooks/data_table.ipynb>data table notebook</a>'\n",
              "          + ' to learn more about interactive tables.';\n",
              "        element.innerHTML = '';\n",
              "        dataTable['output_type'] = 'display_data';\n",
              "        await google.colab.output.renderOutput(dataTable, element);\n",
              "        const docLink = document.createElement('div');\n",
              "        docLink.innerHTML = docLinkHtml;\n",
              "        element.appendChild(docLink);\n",
              "      }\n",
              "    </script>\n",
              "  </div>\n",
              "\n",
              "\n",
              "<div id=\"df-757a3fbc-7922-4812-a903-d5abe06a4d8c\">\n",
              "  <button class=\"colab-df-quickchart\" onclick=\"quickchart('df-757a3fbc-7922-4812-a903-d5abe06a4d8c')\"\n",
              "            title=\"Suggest charts\"\n",
              "            style=\"display:none;\">\n",
              "\n",
              "<svg xmlns=\"http://www.w3.org/2000/svg\" height=\"24px\"viewBox=\"0 0 24 24\"\n",
              "     width=\"24px\">\n",
              "    <g>\n",
              "        <path d=\"M19 3H5c-1.1 0-2 .9-2 2v14c0 1.1.9 2 2 2h14c1.1 0 2-.9 2-2V5c0-1.1-.9-2-2-2zM9 17H7v-7h2v7zm4 0h-2V7h2v10zm4 0h-2v-4h2v4z\"/>\n",
              "    </g>\n",
              "</svg>\n",
              "  </button>\n",
              "\n",
              "<style>\n",
              "  .colab-df-quickchart {\n",
              "      --bg-color: #E8F0FE;\n",
              "      --fill-color: #1967D2;\n",
              "      --hover-bg-color: #E2EBFA;\n",
              "      --hover-fill-color: #174EA6;\n",
              "      --disabled-fill-color: #AAA;\n",
              "      --disabled-bg-color: #DDD;\n",
              "  }\n",
              "\n",
              "  [theme=dark] .colab-df-quickchart {\n",
              "      --bg-color: #3B4455;\n",
              "      --fill-color: #D2E3FC;\n",
              "      --hover-bg-color: #434B5C;\n",
              "      --hover-fill-color: #FFFFFF;\n",
              "      --disabled-bg-color: #3B4455;\n",
              "      --disabled-fill-color: #666;\n",
              "  }\n",
              "\n",
              "  .colab-df-quickchart {\n",
              "    background-color: var(--bg-color);\n",
              "    border: none;\n",
              "    border-radius: 50%;\n",
              "    cursor: pointer;\n",
              "    display: none;\n",
              "    fill: var(--fill-color);\n",
              "    height: 32px;\n",
              "    padding: 0;\n",
              "    width: 32px;\n",
              "  }\n",
              "\n",
              "  .colab-df-quickchart:hover {\n",
              "    background-color: var(--hover-bg-color);\n",
              "    box-shadow: 0 1px 2px rgba(60, 64, 67, 0.3), 0 1px 3px 1px rgba(60, 64, 67, 0.15);\n",
              "    fill: var(--button-hover-fill-color);\n",
              "  }\n",
              "\n",
              "  .colab-df-quickchart-complete:disabled,\n",
              "  .colab-df-quickchart-complete:disabled:hover {\n",
              "    background-color: var(--disabled-bg-color);\n",
              "    fill: var(--disabled-fill-color);\n",
              "    box-shadow: none;\n",
              "  }\n",
              "\n",
              "  .colab-df-spinner {\n",
              "    border: 2px solid var(--fill-color);\n",
              "    border-color: transparent;\n",
              "    border-bottom-color: var(--fill-color);\n",
              "    animation:\n",
              "      spin 1s steps(1) infinite;\n",
              "  }\n",
              "\n",
              "  @keyframes spin {\n",
              "    0% {\n",
              "      border-color: transparent;\n",
              "      border-bottom-color: var(--fill-color);\n",
              "      border-left-color: var(--fill-color);\n",
              "    }\n",
              "    20% {\n",
              "      border-color: transparent;\n",
              "      border-left-color: var(--fill-color);\n",
              "      border-top-color: var(--fill-color);\n",
              "    }\n",
              "    30% {\n",
              "      border-color: transparent;\n",
              "      border-left-color: var(--fill-color);\n",
              "      border-top-color: var(--fill-color);\n",
              "      border-right-color: var(--fill-color);\n",
              "    }\n",
              "    40% {\n",
              "      border-color: transparent;\n",
              "      border-right-color: var(--fill-color);\n",
              "      border-top-color: var(--fill-color);\n",
              "    }\n",
              "    60% {\n",
              "      border-color: transparent;\n",
              "      border-right-color: var(--fill-color);\n",
              "    }\n",
              "    80% {\n",
              "      border-color: transparent;\n",
              "      border-right-color: var(--fill-color);\n",
              "      border-bottom-color: var(--fill-color);\n",
              "    }\n",
              "    90% {\n",
              "      border-color: transparent;\n",
              "      border-bottom-color: var(--fill-color);\n",
              "    }\n",
              "  }\n",
              "</style>\n",
              "\n",
              "  <script>\n",
              "    async function quickchart(key) {\n",
              "      const quickchartButtonEl =\n",
              "        document.querySelector('#' + key + ' button');\n",
              "      quickchartButtonEl.disabled = true;  // To prevent multiple clicks.\n",
              "      quickchartButtonEl.classList.add('colab-df-spinner');\n",
              "      try {\n",
              "        const charts = await google.colab.kernel.invokeFunction(\n",
              "            'suggestCharts', [key], {});\n",
              "      } catch (error) {\n",
              "        console.error('Error during call to suggestCharts:', error);\n",
              "      }\n",
              "      quickchartButtonEl.classList.remove('colab-df-spinner');\n",
              "      quickchartButtonEl.classList.add('colab-df-quickchart-complete');\n",
              "    }\n",
              "    (() => {\n",
              "      let quickchartButtonEl =\n",
              "        document.querySelector('#df-757a3fbc-7922-4812-a903-d5abe06a4d8c button');\n",
              "      quickchartButtonEl.style.display =\n",
              "        google.colab.kernel.accessAllowed ? 'block' : 'none';\n",
              "    })();\n",
              "  </script>\n",
              "</div>\n",
              "    </div>\n",
              "  </div>\n"
            ]
          },
          "metadata": {},
          "execution_count": 360
        }
      ],
      "source": [
        "notcat = ['Sleep duration', 'Sleep efficiency', 'REM sleep percentage', 'Deep sleep percentage', 'Awakenings', 'Caffeine consumption', 'Alcohol consumption', 'Exercise frequency']\n",
        "cor_matr = df.loc[:, notcat].corr()\n",
        "cor_matr"
      ]
    },
    {
      "cell_type": "code",
      "execution_count": 361,
      "metadata": {
        "colab": {
          "base_uri": "https://localhost:8080/",
          "height": 622
        },
        "id": "toocoV5DsBtK",
        "outputId": "7f561be0-e3e5-40e6-ba32-787df8207e09"
      },
      "outputs": [
        {
          "output_type": "execute_result",
          "data": {
            "text/plain": [
              "<Axes: >"
            ]
          },
          "metadata": {},
          "execution_count": 361
        },
        {
          "output_type": "display_data",
          "data": {
            "text/plain": [
              "<Figure size 640x480 with 2 Axes>"
            ],
            "image/png": "[encoded data removed]"
          },
          "metadata": {}
        }
      ],
      "source": [
        "sns.heatmap(cor_matr, annot=True)"
      ]
    },
    {
      "cell_type": "code",
      "source": [
        "%%R\n",
        "\n",
        "cor_matr <- df[, 6:13]\n",
        "for(i in 1:ncol(cor_matr)){\n",
        "  cor_matr[is.na(cor_matr[,i]), i] <- mean(cor_matr[,i], na.rm = TRUE)\n",
        "}\n",
        "cor_matr <- cor(cor_matr)\n",
        "corrplot(cor_matr, method = 'color', tl.col = \"black\", addCoef.col = \"black\")"
      ],
      "metadata": {
        "colab": {
          "base_uri": "https://localhost:8080/",
          "height": 497
        },
        "id": "Fvqjn8prN1pg",
        "outputId": "da84411d-1e2a-4a54-9c23-be0da9aec73b"
      },
      "execution_count": 362,
      "outputs": [
        {
          "output_type": "display_data",
          "data": {
            "image/png": "[encoded data removed]"
          },
          "metadata": {}
        }
      ]
    },
    {
      "cell_type": "markdown",
      "metadata": {
        "id": "c2q1IYoGsBtL"
      },
      "source": [
        "Корреляция принимает значения из отрезка [-1, 1], где 0 означают слабую корреляцию между данными, 1 - прямую зависимость и -1 - обратную \\\n",
        "По матрице можно сделать весьма логичные предположения, например как эффективность сна тесно связана с глубокими фазами сна, так и не очень очевидные, так что продолжительность сна не зависит от количества пробуждений, в то же время увеличение количества пробуждений влечет за собой ухудшение эффективности сна"
      ]
    },
    {
      "cell_type": "code",
      "execution_count": 363,
      "metadata": {
        "colab": {
          "base_uri": "https://localhost:8080/"
        },
        "id": "Kv0DRGJ3sBtL",
        "outputId": "3542c546-0a5d-403c-8bb9-d6bf9713b44d"
      },
      "outputs": [
        {
          "output_type": "execute_result",
          "data": {
            "text/plain": [
              "const                    197.145056\n",
              "Sleep duration             1.010541\n",
              "Sleep efficiency           4.405831\n",
              "REM sleep percentage       1.208726\n",
              "Deep sleep percentage      3.436324\n",
              "Awakenings                 1.611925\n",
              "Caffeine consumption       1.055205\n",
              "Alcohol consumption        1.235840\n",
              "Exercise frequency         1.121965\n",
              "dtype: float64"
            ]
          },
          "metadata": {},
          "execution_count": 363
        }
      ],
      "source": [
        "from statsmodels.stats.outliers_influence import variance_inflation_factor\n",
        "from statsmodels.tools.tools import add_constant\n",
        "\n",
        "filled_df = df.dropna()\n",
        "matr = add_constant(filled_df.loc[:, notcat])\n",
        "vif = pd.Series([variance_inflation_factor(matr.values, i) for i in range(matr.shape[1])], index=matr.columns)\n",
        "vif"
      ]
    },
    {
      "cell_type": "code",
      "source": [
        "%%R\n",
        "\n",
        "vif_data <- df[, 6:13]\n",
        "for(i in 1:ncol(vif_data)){\n",
        "  vif_data[is.na(vif_data[,i]), i] <- mean(vif_data[,i], na.rm = TRUE)\n",
        "}\n",
        "\n",
        "vif(lm(Sleep.duration ~ Sleep.efficiency + REM.sleep.percentage + Deep.sleep.percentage + Awakenings + Caffeine.consumption + Alcohol.consumption, data = vif_data))"
      ],
      "metadata": {
        "colab": {
          "base_uri": "https://localhost:8080/"
        },
        "id": "KqfyqROKY-JO",
        "outputId": "57a6e053-25bd-4d25-a0fb-2acd7f2683f9"
      },
      "execution_count": 364,
      "outputs": [
        {
          "output_type": "stream",
          "name": "stdout",
          "text": [
            "     Sleep.efficiency  REM.sleep.percentage Deep.sleep.percentage \n",
            "             4.428727              1.249386              3.556533 \n",
            "           Awakenings  Caffeine.consumption   Alcohol.consumption \n",
            "             1.592303              1.027171              1.204264 \n"
          ]
        }
      ]
    },
    {
      "cell_type": "markdown",
      "metadata": {
        "id": "w2mBETcLsBtL"
      },
      "source": [
        "Здесь пришлось подготовить матрицу, предварительно избавив ее от пропущенных ячеек, так как этот метод чувствителен к их наличию. \\\n",
        "Как видно из таблицы значения Sleep efficiency и Deep sleep percentage более других зависимы от остальных переменных"
      ]
    },
    {
      "cell_type": "code",
      "source": [
        "df['Gender'].value_counts()\n",
        "print(df[(df['Age'] < 40) & (df['Age'] >= 18)].size)\n",
        "print(df[df['Age'] >= 40].size)"
      ],
      "metadata": {
        "colab": {
          "base_uri": "https://localhost:8080/"
        },
        "id": "yiceuMEWvVz6",
        "outputId": "c141be30-fbe9-4dcc-da67-ced1c1701441"
      },
      "execution_count": 365,
      "outputs": [
        {
          "output_type": "stream",
          "name": "stdout",
          "text": [
            "3135\n",
            "3510\n"
          ]
        }
      ]
    },
    {
      "cell_type": "markdown",
      "metadata": {
        "id": "4AQFw6dLsBtL"
      },
      "source": [
        "### Исследовать зависимости в данных с помощью дисперсионного анализа. ###"
      ]
    },
    {
      "cell_type": "markdown",
      "metadata": {
        "id": "evJtwdTSsBtL"
      },
      "source": [
        "Нулевой гипотезой в данном случае является предположение, что две и более выборки имеют одинаковое среднее"
      ]
    },
    {
      "cell_type": "code",
      "execution_count": 366,
      "metadata": {
        "id": "Ifu4CmIIsBtL"
      },
      "outputs": [],
      "source": [
        "young = df.loc[df['Age'] < 18, 'Sleep efficiency']\n",
        "middle = df.loc[(18 <= df['Age']) & (df['Age'] < 40), 'Sleep efficiency']\n",
        "old = df.loc[(40 <= df['Age']) & (df['Age'] < 70), 'Sleep efficiency']"
      ]
    },
    {
      "cell_type": "code",
      "execution_count": 367,
      "metadata": {
        "colab": {
          "base_uri": "https://localhost:8080/"
        },
        "id": "XTc8O0BwsBtL",
        "outputId": "5df69cfc-448e-407d-fdb2-9ee79ee6641e"
      },
      "outputs": [
        {
          "output_type": "stream",
          "name": "stdout",
          "text": [
            "False\n",
            "0.588888888888889\n",
            "0.7882775119617225\n",
            "0.7971794871794872\n"
          ]
        }
      ],
      "source": [
        "print(stats.f_oneway(young, middle, old).pvalue > 0.05)\n",
        "print(young.mean())\n",
        "print(middle.mean())\n",
        "print(old.mean())"
      ]
    },
    {
      "cell_type": "code",
      "source": [
        "%%R\n",
        "\n",
        "middle <- df[df$Age < 40, ]\n",
        "old <- df[df$Age >= 40, ]\n",
        "old <- old[0:218, ]\n",
        "\n",
        "A <- aov(middle$Sleep.efficiency ~ old$Sleep.efficiency)\n",
        "anova(A)"
      ],
      "metadata": {
        "colab": {
          "base_uri": "https://localhost:8080/"
        },
        "id": "fK3N9y0-dNLc",
        "outputId": "63c76597-aad8-4e4c-9044-7572411f856f"
      },
      "execution_count": 368,
      "outputs": [
        {
          "output_type": "stream",
          "name": "stdout",
          "text": [
            "Analysis of Variance Table\n",
            "\n",
            "Response: middle$Sleep.efficiency\n",
            "                      Df Sum Sq  Mean Sq F value Pr(>F)\n",
            "old$Sleep.efficiency   1 0.0018 0.001751  0.0883 0.7667\n",
            "Residuals            216 4.2843 0.019835               \n"
          ]
        }
      ]
    },
    {
      "cell_type": "markdown",
      "metadata": {
        "id": "CrZ6cvlxsBtL"
      },
      "source": [
        "Нулевая гипотеза отвергается, следовательно сделать предположение об эффективности сна в разных возрастных категориях нельзя"
      ]
    },
    {
      "cell_type": "markdown",
      "metadata": {
        "id": "_eRtkl7esBtL"
      },
      "source": [
        "### Подогнать регрессионные модели (в том числе, нелинейные) к данным, а также оценить качество подобной аппроксимации. ###"
      ]
    },
    {
      "cell_type": "code",
      "execution_count": 369,
      "metadata": {
        "colab": {
          "base_uri": "https://localhost:8080/",
          "height": 494
        },
        "id": "mCB6FtEmsBtL",
        "outputId": "3190ee16-e5ff-4162-8852-b7e20cadeefb"
      },
      "outputs": [
        {
          "output_type": "execute_result",
          "data": {
            "text/plain": [
              "<class 'statsmodels.iolib.summary.Summary'>\n",
              "\"\"\"\n",
              "                            OLS Regression Results                            \n",
              "==============================================================================\n",
              "Dep. Variable:       Sleep efficiency   R-squared:                       0.279\n",
              "Model:                            OLS   Adj. R-squared:                  0.274\n",
              "Method:                 Least Squares   F-statistic:                     57.67\n",
              "Date:                Mon, 27 Nov 2023   Prob (F-statistic):           1.53e-31\n",
              "Time:                        19:47:43   Log-Likelihood:                 337.27\n",
              "No. Observations:                 452   AIC:                            -666.5\n",
              "Df Residuals:                     448   BIC:                            -650.1\n",
              "Df Model:                           3                                         \n",
              "Covariance Type:            nonrobust                                         \n",
              "=======================================================================================\n",
              "                          coef    std err          t      P>|t|      [0.025      0.975]\n",
              "---------------------------------------------------------------------------------------\n",
              "Alcohol consumption    -0.0311      0.003     -9.114      0.000      -0.038      -0.024\n",
              "Exercise frequency      0.0239      0.004      6.230      0.000       0.016       0.031\n",
              "Smoking status_No       0.8072      0.010     78.002      0.000       0.787       0.828\n",
              "Smoking status_Yes      0.7351      0.012     60.147      0.000       0.711       0.759\n",
              "==============================================================================\n",
              "Omnibus:                       16.987   Durbin-Watson:                   2.064\n",
              "Prob(Omnibus):                  0.000   Jarque-Bera (JB):               13.774\n",
              "Skew:                          -0.342   Prob(JB):                      0.00102\n",
              "Kurtosis:                       2.487   Cond. No.                         7.03\n",
              "==============================================================================\n",
              "\n",
              "Notes:\n",
              "[1] Standard Errors assume that the covariance matrix of the errors is correctly specified.\n",
              "\"\"\""
            ],
            "text/html": [
              "<table class=\"simpletable\">\n",
              "<caption>OLS Regression Results</caption>\n",
              "<tr>\n",
              "  <th>Dep. Variable:</th>    <td>Sleep efficiency</td> <th>  R-squared:         </th> <td>   0.279</td>\n",
              "</tr>\n",
              "<tr>\n",
              "  <th>Model:</th>                   <td>OLS</td>       <th>  Adj. R-squared:    </th> <td>   0.274</td>\n",
              "</tr>\n",
              "<tr>\n",
              "  <th>Method:</th>             <td>Least Squares</td>  <th>  F-statistic:       </th> <td>   57.67</td>\n",
              "</tr>\n",
              "<tr>\n",
              "  <th>Date:</th>             <td>Mon, 27 Nov 2023</td> <th>  Prob (F-statistic):</th> <td>1.53e-31</td>\n",
              "</tr>\n",
              "<tr>\n",
              "  <th>Time:</th>                 <td>19:47:43</td>     <th>  Log-Likelihood:    </th> <td>  337.27</td>\n",
              "</tr>\n",
              "<tr>\n",
              "  <th>No. Observations:</th>      <td>   452</td>      <th>  AIC:               </th> <td>  -666.5</td>\n",
              "</tr>\n",
              "<tr>\n",
              "  <th>Df Residuals:</th>          <td>   448</td>      <th>  BIC:               </th> <td>  -650.1</td>\n",
              "</tr>\n",
              "<tr>\n",
              "  <th>Df Model:</th>              <td>     3</td>      <th>                     </th>     <td> </td>   \n",
              "</tr>\n",
              "<tr>\n",
              "  <th>Covariance Type:</th>      <td>nonrobust</td>    <th>                     </th>     <td> </td>   \n",
              "</tr>\n",
              "</table>\n",
              "<table class=\"simpletable\">\n",
              "<tr>\n",
              "           <td></td>              <th>coef</th>     <th>std err</th>      <th>t</th>      <th>P>|t|</th>  <th>[0.025</th>    <th>0.975]</th>  \n",
              "</tr>\n",
              "<tr>\n",
              "  <th>Alcohol consumption</th> <td>   -0.0311</td> <td>    0.003</td> <td>   -9.114</td> <td> 0.000</td> <td>   -0.038</td> <td>   -0.024</td>\n",
              "</tr>\n",
              "<tr>\n",
              "  <th>Exercise frequency</th>  <td>    0.0239</td> <td>    0.004</td> <td>    6.230</td> <td> 0.000</td> <td>    0.016</td> <td>    0.031</td>\n",
              "</tr>\n",
              "<tr>\n",
              "  <th>Smoking status_No</th>   <td>    0.8072</td> <td>    0.010</td> <td>   78.002</td> <td> 0.000</td> <td>    0.787</td> <td>    0.828</td>\n",
              "</tr>\n",
              "<tr>\n",
              "  <th>Smoking status_Yes</th>  <td>    0.7351</td> <td>    0.012</td> <td>   60.147</td> <td> 0.000</td> <td>    0.711</td> <td>    0.759</td>\n",
              "</tr>\n",
              "</table>\n",
              "<table class=\"simpletable\">\n",
              "<tr>\n",
              "  <th>Omnibus:</th>       <td>16.987</td> <th>  Durbin-Watson:     </th> <td>   2.064</td>\n",
              "</tr>\n",
              "<tr>\n",
              "  <th>Prob(Omnibus):</th> <td> 0.000</td> <th>  Jarque-Bera (JB):  </th> <td>  13.774</td>\n",
              "</tr>\n",
              "<tr>\n",
              "  <th>Skew:</th>          <td>-0.342</td> <th>  Prob(JB):          </th> <td> 0.00102</td>\n",
              "</tr>\n",
              "<tr>\n",
              "  <th>Kurtosis:</th>      <td> 2.487</td> <th>  Cond. No.          </th> <td>    7.03</td>\n",
              "</tr>\n",
              "</table><br/><br/>Notes:<br/>[1] Standard Errors assume that the covariance matrix of the errors is correctly specified."
            ],
            "text/latex": "\\begin{center}\n\\begin{tabular}{lclc}\n\\toprule\n\\textbf{Dep. Variable:}      & Sleep efficiency & \\textbf{  R-squared:         } &     0.279   \\\\\n\\textbf{Model:}              &       OLS        & \\textbf{  Adj. R-squared:    } &     0.274   \\\\\n\\textbf{Method:}             &  Least Squares   & \\textbf{  F-statistic:       } &     57.67   \\\\\n\\textbf{Date:}               & Mon, 27 Nov 2023 & \\textbf{  Prob (F-statistic):} &  1.53e-31   \\\\\n\\textbf{Time:}               &     19:47:43     & \\textbf{  Log-Likelihood:    } &    337.27   \\\\\n\\textbf{No. Observations:}   &         452      & \\textbf{  AIC:               } &    -666.5   \\\\\n\\textbf{Df Residuals:}       &         448      & \\textbf{  BIC:               } &    -650.1   \\\\\n\\textbf{Df Model:}           &           3      & \\textbf{                     } &             \\\\\n\\textbf{Covariance Type:}    &    nonrobust     & \\textbf{                     } &             \\\\\n\\bottomrule\n\\end{tabular}\n\\begin{tabular}{lcccccc}\n                             & \\textbf{coef} & \\textbf{std err} & \\textbf{t} & \\textbf{P$> |$t$|$} & \\textbf{[0.025} & \\textbf{0.975]}  \\\\\n\\midrule\n\\textbf{Alcohol consumption} &      -0.0311  &        0.003     &    -9.114  &         0.000        &       -0.038    &       -0.024     \\\\\n\\textbf{Exercise frequency}  &       0.0239  &        0.004     &     6.230  &         0.000        &        0.016    &        0.031     \\\\\n\\textbf{Smoking status\\_No}  &       0.8072  &        0.010     &    78.002  &         0.000        &        0.787    &        0.828     \\\\\n\\textbf{Smoking status\\_Yes} &       0.7351  &        0.012     &    60.147  &         0.000        &        0.711    &        0.759     \\\\\n\\bottomrule\n\\end{tabular}\n\\begin{tabular}{lclc}\n\\textbf{Omnibus:}       & 16.987 & \\textbf{  Durbin-Watson:     } &    2.064  \\\\\n\\textbf{Prob(Omnibus):} &  0.000 & \\textbf{  Jarque-Bera (JB):  } &   13.774  \\\\\n\\textbf{Skew:}          & -0.342 & \\textbf{  Prob(JB):          } &  0.00102  \\\\\n\\textbf{Kurtosis:}      &  2.487 & \\textbf{  Cond. No.          } &     7.03  \\\\\n\\bottomrule\n\\end{tabular}\n%\\caption{OLS Regression Results}\n\\end{center}\n\nNotes: \\newline\n [1] Standard Errors assume that the covariance matrix of the errors is correctly specified."
          },
          "metadata": {},
          "execution_count": 369
        }
      ],
      "source": [
        "y = df['Sleep efficiency']\n",
        "spaced_df = pd.get_dummies(df, columns=['Smoking status'], dtype=int)\n",
        "spaced_df['Alcohol consumption'].fillna(value=df['Alcohol consumption'].mean(), inplace=True)\n",
        "spaced_df['Exercise frequency'].fillna(value=df['Exercise frequency'].mean(), inplace=True)\n",
        "X = spaced_df[['Alcohol consumption', 'Exercise frequency', 'Smoking status_No', 'Smoking status_Yes']]\n",
        "\n",
        "model = stm.OLS(y, X).fit()\n",
        "model.summary()"
      ]
    },
    {
      "cell_type": "code",
      "source": [
        "model.mse_model"
      ],
      "metadata": {
        "colab": {
          "base_uri": "https://localhost:8080/"
        },
        "id": "5Juw-thnS5c3",
        "outputId": "82b4319c-bcb0-4e50-924d-bb7bd0edf54c"
      },
      "execution_count": 370,
      "outputs": [
        {
          "output_type": "execute_result",
          "data": {
            "text/plain": [
              "0.7660090365771156"
            ]
          },
          "metadata": {},
          "execution_count": 370
        }
      ]
    },
    {
      "cell_type": "code",
      "source": [
        "%%R\n",
        "\n",
        "spaced_df <- df[, -14]\n",
        "spaced_df$Smoking.status_Yes <- ifelse(df$Smoking.status == 'Yes', 1, 0)\n",
        "spaced_df$Smoking.status_No <- ifelse(df$Smoking.status == 'No', 1, 0)\n",
        "for(i in 1:ncol(spaced_df)){\n",
        "  spaced_df[is.na(spaced_df[,i]), i] <- mean(spaced_df[,i], na.rm = TRUE)\n",
        "}\n",
        "\n",
        "model <- lm(spaced_df$Sleep.efficiency ~ spaced_df$Alcohol.consumption + spaced_df$Exercise.frequency + spaced_df$Smoking.status_No + spaced_df$Smoking.status_Yes)\n",
        "summary(model)"
      ],
      "metadata": {
        "colab": {
          "base_uri": "https://localhost:8080/"
        },
        "id": "ER_wJvif0NoD",
        "outputId": "ca93be89-5f96-41a7-c8ca-dd2540a66576"
      },
      "execution_count": 371,
      "outputs": [
        {
          "output_type": "stream",
          "name": "stdout",
          "text": [
            "\n",
            "Call:\n",
            "lm(formula = spaced_df$Sleep.efficiency ~ spaced_df$Alcohol.consumption + \n",
            "    spaced_df$Exercise.frequency + spaced_df$Smoking.status_No + \n",
            "    spaced_df$Smoking.status_Yes)\n",
            "\n",
            "Residuals:\n",
            "     Min       1Q   Median       3Q      Max \n",
            "-0.28721 -0.08020  0.01386  0.08564  0.27254 \n",
            "\n",
            "Coefficients: (1 not defined because of singularities)\n",
            "                               Estimate Std. Error t value Pr(>|t|)    \n",
            "(Intercept)                    0.735132   0.012222  60.147  < 2e-16 ***\n",
            "spaced_df$Alcohol.consumption -0.031077   0.003410  -9.114  < 2e-16 ***\n",
            "spaced_df$Exercise.frequency   0.023854   0.003829   6.230 1.08e-09 ***\n",
            "spaced_df$Smoking.status_No    0.072077   0.011478   6.279 8.04e-10 ***\n",
            "spaced_df$Smoking.status_Yes         NA         NA      NA       NA    \n",
            "---\n",
            "Signif. codes:  0 ‘***’ 0.001 ‘**’ 0.01 ‘*’ 0.05 ‘.’ 0.1 ‘ ’ 1\n",
            "\n",
            "Residual standard error: 0.1152 on 448 degrees of freedom\n",
            "Multiple R-squared:  0.2786,\tAdjusted R-squared:  0.2738 \n",
            "F-statistic: 57.67 on 3 and 448 DF,  p-value: < 2.2e-16\n",
            "\n"
          ]
        }
      ]
    },
    {
      "cell_type": "markdown",
      "metadata": {
        "id": "qw6jHj4QsBtL"
      },
      "source": [
        "Вид линейной модели следующий\n",
        "$$y_{\\text{Sleep efficiency}} = x_{\\text{Alcohol consumption}} \\cdot (-0.0311) + x_{\\text{Exercise frequency}} \\cdot (0.0239) + x_{\\text{Smoking status No}} \\cdot (0.8072) + x_{\\text{Smoking status Yes}} \\cdot (0.7351)$$"
      ]
    },
    {
      "cell_type": "code",
      "execution_count": 372,
      "metadata": {
        "colab": {
          "base_uri": "https://localhost:8080/",
          "height": 529
        },
        "id": "9M03OpBRsBtL",
        "outputId": "8a243e7b-ea8c-41b4-a155-8fab06097fee"
      },
      "outputs": [
        {
          "output_type": "execute_result",
          "data": {
            "text/plain": [
              "<class 'statsmodels.iolib.summary.Summary'>\n",
              "\"\"\"\n",
              "                            OLS Regression Results                            \n",
              "==============================================================================\n",
              "Dep. Variable:       Sleep efficiency   R-squared:                       0.009\n",
              "Model:                            OLS   Adj. R-squared:                  0.003\n",
              "Method:                 Least Squares   F-statistic:                     1.398\n",
              "Date:                Mon, 27 Nov 2023   Prob (F-statistic):              0.243\n",
              "Time:                        19:47:43   Log-Likelihood:                 265.57\n",
              "No. Observations:                 452   AIC:                            -523.1\n",
              "Df Residuals:                     448   BIC:                            -506.7\n",
              "Df Model:                           3                                         \n",
              "Covariance Type:            nonrobust                                         \n",
              "==============================================================================\n",
              "                 coef    std err          t      P>|t|      [0.025      0.975]\n",
              "------------------------------------------------------------------------------\n",
              "const          0.7886      0.009     85.483      0.000       0.771       0.807\n",
              "x1            -0.0010      0.001     -1.050      0.294      -0.003       0.001\n",
              "x2          2.578e-05   2.13e-05      1.209      0.227   -1.61e-05    6.77e-05\n",
              "x3         -9.071e-08   8.48e-08     -1.070      0.285   -2.57e-07    7.59e-08\n",
              "==============================================================================\n",
              "Omnibus:                       48.387   Durbin-Watson:                   2.111\n",
              "Prob(Omnibus):                  0.000   Jarque-Bera (JB):               41.134\n",
              "Skew:                          -0.655   Prob(JB):                     1.17e-09\n",
              "Kurtosis:                       2.315   Cond. No.                     1.11e+06\n",
              "==============================================================================\n",
              "\n",
              "Notes:\n",
              "[1] Standard Errors assume that the covariance matrix of the errors is correctly specified.\n",
              "[2] The condition number is large, 1.11e+06. This might indicate that there are\n",
              "strong multicollinearity or other numerical problems.\n",
              "\"\"\""
            ],
            "text/html": [
              "<table class=\"simpletable\">\n",
              "<caption>OLS Regression Results</caption>\n",
              "<tr>\n",
              "  <th>Dep. Variable:</th>    <td>Sleep efficiency</td> <th>  R-squared:         </th> <td>   0.009</td>\n",
              "</tr>\n",
              "<tr>\n",
              "  <th>Model:</th>                   <td>OLS</td>       <th>  Adj. R-squared:    </th> <td>   0.003</td>\n",
              "</tr>\n",
              "<tr>\n",
              "  <th>Method:</th>             <td>Least Squares</td>  <th>  F-statistic:       </th> <td>   1.398</td>\n",
              "</tr>\n",
              "<tr>\n",
              "  <th>Date:</th>             <td>Mon, 27 Nov 2023</td> <th>  Prob (F-statistic):</th>  <td> 0.243</td> \n",
              "</tr>\n",
              "<tr>\n",
              "  <th>Time:</th>                 <td>19:47:43</td>     <th>  Log-Likelihood:    </th> <td>  265.57</td>\n",
              "</tr>\n",
              "<tr>\n",
              "  <th>No. Observations:</th>      <td>   452</td>      <th>  AIC:               </th> <td>  -523.1</td>\n",
              "</tr>\n",
              "<tr>\n",
              "  <th>Df Residuals:</th>          <td>   448</td>      <th>  BIC:               </th> <td>  -506.7</td>\n",
              "</tr>\n",
              "<tr>\n",
              "  <th>Df Model:</th>              <td>     3</td>      <th>                     </th>     <td> </td>   \n",
              "</tr>\n",
              "<tr>\n",
              "  <th>Covariance Type:</th>      <td>nonrobust</td>    <th>                     </th>     <td> </td>   \n",
              "</tr>\n",
              "</table>\n",
              "<table class=\"simpletable\">\n",
              "<tr>\n",
              "    <td></td>       <th>coef</th>     <th>std err</th>      <th>t</th>      <th>P>|t|</th>  <th>[0.025</th>    <th>0.975]</th>  \n",
              "</tr>\n",
              "<tr>\n",
              "  <th>const</th> <td>    0.7886</td> <td>    0.009</td> <td>   85.483</td> <td> 0.000</td> <td>    0.771</td> <td>    0.807</td>\n",
              "</tr>\n",
              "<tr>\n",
              "  <th>x1</th>    <td>   -0.0010</td> <td>    0.001</td> <td>   -1.050</td> <td> 0.294</td> <td>   -0.003</td> <td>    0.001</td>\n",
              "</tr>\n",
              "<tr>\n",
              "  <th>x2</th>    <td> 2.578e-05</td> <td> 2.13e-05</td> <td>    1.209</td> <td> 0.227</td> <td>-1.61e-05</td> <td> 6.77e-05</td>\n",
              "</tr>\n",
              "<tr>\n",
              "  <th>x3</th>    <td>-9.071e-08</td> <td> 8.48e-08</td> <td>   -1.070</td> <td> 0.285</td> <td>-2.57e-07</td> <td> 7.59e-08</td>\n",
              "</tr>\n",
              "</table>\n",
              "<table class=\"simpletable\">\n",
              "<tr>\n",
              "  <th>Omnibus:</th>       <td>48.387</td> <th>  Durbin-Watson:     </th> <td>   2.111</td>\n",
              "</tr>\n",
              "<tr>\n",
              "  <th>Prob(Omnibus):</th> <td> 0.000</td> <th>  Jarque-Bera (JB):  </th> <td>  41.134</td>\n",
              "</tr>\n",
              "<tr>\n",
              "  <th>Skew:</th>          <td>-0.655</td> <th>  Prob(JB):          </th> <td>1.17e-09</td>\n",
              "</tr>\n",
              "<tr>\n",
              "  <th>Kurtosis:</th>      <td> 2.315</td> <th>  Cond. No.          </th> <td>1.11e+06</td>\n",
              "</tr>\n",
              "</table><br/><br/>Notes:<br/>[1] Standard Errors assume that the covariance matrix of the errors is correctly specified.<br/>[2] The condition number is large, 1.11e+06. This might indicate that there are<br/>strong multicollinearity or other numerical problems."
            ],
            "text/latex": "\\begin{center}\n\\begin{tabular}{lclc}\n\\toprule\n\\textbf{Dep. Variable:}    & Sleep efficiency & \\textbf{  R-squared:         } &     0.009   \\\\\n\\textbf{Model:}            &       OLS        & \\textbf{  Adj. R-squared:    } &     0.003   \\\\\n\\textbf{Method:}           &  Least Squares   & \\textbf{  F-statistic:       } &     1.398   \\\\\n\\textbf{Date:}             & Mon, 27 Nov 2023 & \\textbf{  Prob (F-statistic):} &    0.243    \\\\\n\\textbf{Time:}             &     19:47:43     & \\textbf{  Log-Likelihood:    } &    265.57   \\\\\n\\textbf{No. Observations:} &         452      & \\textbf{  AIC:               } &    -523.1   \\\\\n\\textbf{Df Residuals:}     &         448      & \\textbf{  BIC:               } &    -506.7   \\\\\n\\textbf{Df Model:}         &           3      & \\textbf{                     } &             \\\\\n\\textbf{Covariance Type:}  &    nonrobust     & \\textbf{                     } &             \\\\\n\\bottomrule\n\\end{tabular}\n\\begin{tabular}{lcccccc}\n               & \\textbf{coef} & \\textbf{std err} & \\textbf{t} & \\textbf{P$> |$t$|$} & \\textbf{[0.025} & \\textbf{0.975]}  \\\\\n\\midrule\n\\textbf{const} &       0.7886  &        0.009     &    85.483  &         0.000        &        0.771    &        0.807     \\\\\n\\textbf{x1}    &      -0.0010  &        0.001     &    -1.050  &         0.294        &       -0.003    &        0.001     \\\\\n\\textbf{x2}    &    2.578e-05  &     2.13e-05     &     1.209  &         0.227        &    -1.61e-05    &     6.77e-05     \\\\\n\\textbf{x3}    &   -9.071e-08  &     8.48e-08     &    -1.070  &         0.285        &    -2.57e-07    &     7.59e-08     \\\\\n\\bottomrule\n\\end{tabular}\n\\begin{tabular}{lclc}\n\\textbf{Omnibus:}       & 48.387 & \\textbf{  Durbin-Watson:     } &    2.111  \\\\\n\\textbf{Prob(Omnibus):} &  0.000 & \\textbf{  Jarque-Bera (JB):  } &   41.134  \\\\\n\\textbf{Skew:}          & -0.655 & \\textbf{  Prob(JB):          } & 1.17e-09  \\\\\n\\textbf{Kurtosis:}      &  2.315 & \\textbf{  Cond. No.          } & 1.11e+06  \\\\\n\\bottomrule\n\\end{tabular}\n%\\caption{OLS Regression Results}\n\\end{center}\n\nNotes: \\newline\n [1] Standard Errors assume that the covariance matrix of the errors is correctly specified. \\newline\n [2] The condition number is large, 1.11e+06. This might indicate that there are \\newline\n strong multicollinearity or other numerical problems."
          },
          "metadata": {},
          "execution_count": 372
        }
      ],
      "source": [
        "from sklearn.preprocessing import PolynomialFeatures\n",
        "polynomial_features = PolynomialFeatures(degree=3)\n",
        "df['Caffeine consumption'].fillna(value=df['Caffeine consumption'].mean(), inplace=True)\n",
        "Xp = df.loc[:, 'Caffeine consumption'].to_numpy().reshape(-1, 1)\n",
        "Xp = polynomial_features.fit_transform(Xp)\n",
        "\n",
        "model = stm.OLS(y, Xp).fit()\n",
        "model.summary()"
      ]
    },
    {
      "cell_type": "code",
      "source": [
        "model.mse_model"
      ],
      "metadata": {
        "colab": {
          "base_uri": "https://localhost:8080/"
        },
        "id": "UskFY1xsUCCE",
        "outputId": "39957955-55c6-46b7-a3a4-46d87266ad95"
      },
      "execution_count": 373,
      "outputs": [
        {
          "output_type": "execute_result",
          "data": {
            "text/plain": [
              "0.025494550107378444"
            ]
          },
          "metadata": {},
          "execution_count": 373
        }
      ]
    },
    {
      "cell_type": "code",
      "source": [
        "%%R\n",
        "\n",
        "poly <- lm(formula = spaced_df$Caffeine.consumption ~ poly(spaced_df$Caffeine.consumption, degree = 3, raw = T))\n",
        "summary(poly)"
      ],
      "metadata": {
        "colab": {
          "base_uri": "https://localhost:8080/"
        },
        "id": "6riz-xYK0P02",
        "outputId": "c97e30f5-4677-459c-d350-d544359a9e7c"
      },
      "execution_count": 374,
      "outputs": [
        {
          "output_type": "stream",
          "name": "stdout",
          "text": [
            "\n",
            "Call:\n",
            "lm(formula = spaced_df$Caffeine.consumption ~ poly(spaced_df$Caffeine.consumption, \n",
            "    degree = 3, raw = T))\n",
            "\n",
            "Residuals:\n",
            "       Min         1Q     Median         3Q        Max \n",
            "-3.655e-13  3.300e-16  6.800e-16  1.500e-15  3.408e-14 \n",
            "\n",
            "Coefficients:\n",
            "                                                             Estimate\n",
            "(Intercept)                                                -8.021e-15\n",
            "poly(spaced_df$Caffeine.consumption, degree = 3, raw = T)1  1.000e+00\n",
            "poly(spaced_df$Caffeine.consumption, degree = 3, raw = T)2 -2.147e-18\n",
            "poly(spaced_df$Caffeine.consumption, degree = 3, raw = T)3  7.327e-21\n",
            "                                                           Std. Error\n",
            "(Intercept)                                                 1.187e-15\n",
            "poly(spaced_df$Caffeine.consumption, degree = 3, raw = T)1  1.274e-16\n",
            "poly(spaced_df$Caffeine.consumption, degree = 3, raw = T)2  2.744e-18\n",
            "poly(spaced_df$Caffeine.consumption, degree = 3, raw = T)3  1.091e-20\n",
            "                                                              t value Pr(>|t|)\n",
            "(Intercept)                                                -6.757e+00  4.4e-11\n",
            "poly(spaced_df$Caffeine.consumption, degree = 3, raw = T)1  7.852e+15  < 2e-16\n",
            "poly(spaced_df$Caffeine.consumption, degree = 3, raw = T)2 -7.820e-01    0.434\n",
            "poly(spaced_df$Caffeine.consumption, degree = 3, raw = T)3  6.720e-01    0.502\n",
            "                                                              \n",
            "(Intercept)                                                ***\n",
            "poly(spaced_df$Caffeine.consumption, degree = 3, raw = T)1 ***\n",
            "poly(spaced_df$Caffeine.consumption, degree = 3, raw = T)2    \n",
            "poly(spaced_df$Caffeine.consumption, degree = 3, raw = T)3    \n",
            "---\n",
            "Signif. codes:  0 ‘***’ 0.001 ‘**’ 0.01 ‘*’ 0.05 ‘.’ 0.1 ‘ ’ 1\n",
            "\n",
            "Residual standard error: 1.738e-14 on 448 degrees of freedom\n",
            "Multiple R-squared:      1,\tAdjusted R-squared:      1 \n",
            "F-statistic: 4.289e+32 on 3 and 448 DF,  p-value: < 2.2e-16\n",
            "\n"
          ]
        }
      ]
    },
    {
      "cell_type": "markdown",
      "metadata": {
        "id": "5jHn4NHxsBtL"
      },
      "source": [
        "Вид полиномиальной модели следующий:\n",
        "$$ y_{\\text{Sleep efficiency}} = x \\cdot (0.0247) + x^2 \\cdot (2.578 \\cdot 10^{-5}) + x^3*(-9.071 \\cdot 10^{-8}) + 0.7886 $$"
      ]
    }
  ],
  "metadata": {
    "kernelspec": {
      "display_name": "Python 3",
      "language": "python",
      "name": "python3"
    },
    "language_info": {
      "codemirror_mode": {
        "name": "ipython",
        "version": 3
      },
      "file_extension": ".py",
      "mimetype": "text/x-python",
      "name": "python",
      "nbconvert_exporter": "python",
      "pygments_lexer": "ipython3",
      "version": "3.9.6"
    },
    "colab": {
      "provenance": [],
      "collapsed_sections": [
        "aoEXO7zJsBs6",
        "MvcEg4issBs8",
        "f6xuh7QJsBs9",
        "CKZ7l5X2sBs9",
        "0o5DgAumsBs-",
        "qpQXFiYPsBs_",
        "CZyMpj16sBtK",
        "4AQFw6dLsBtL"
      ]
    }
  },
  "nbformat": 4,
  "nbformat_minor": 0
}